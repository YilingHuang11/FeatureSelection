{
 "cells": [
  {
   "cell_type": "markdown",
   "id": "9fd5433f",
   "metadata": {},
   "source": [
    "# Problem Statement"
   ]
  },
  {
   "cell_type": "markdown",
   "id": "78e7e577",
   "metadata": {},
   "source": [
    "In this project, I am going to predict electric consumption by applying ML algorithms and compare which model performs better."
   ]
  },
  {
   "cell_type": "markdown",
   "id": "5dcf5d17",
   "metadata": {},
   "source": [
    "# Dataset Description"
   ]
  },
  {
   "cell_type": "markdown",
   "id": "d7e65d21",
   "metadata": {},
   "source": [
    "This dataset has 12083 rows and 940 columns. I would perform feature selection by removing irrelevant or less significant features for better model performance and to avoid overfitting. Also, feature scaling should be done before training our models, since some ML algorithms like Linear Regression and KNN are sensitive to magnitudes. \n",
    "I would apply supervised regression algorithms to our dataset as our target variable is continuous. \n",
    "\n",
    "data source: https://www.eia.gov/consumption/residential/data/2009/index.php?view=microdata"
   ]
  },
  {
   "cell_type": "markdown",
   "id": "34dfa603",
   "metadata": {},
   "source": [
    "# Data Cleaning"
   ]
  },
  {
   "cell_type": "code",
   "execution_count": 1,
   "id": "fbb86a38",
   "metadata": {
    "ExecuteTime": {
     "end_time": "2022-03-29T22:39:22.610300Z",
     "start_time": "2022-03-29T22:39:20.733361Z"
    }
   },
   "outputs": [],
   "source": [
    "import pandas as pd \n",
    "import numpy as np \n",
    "import warnings\n",
    "warnings.filterwarnings('ignore')\n",
    "\n",
    "# read file\n",
    "data = pd.read_csv(r\"C:\\Users\\yilin\\OneDrive\\Desktop\\recs2009_public.csv\")"
   ]
  },
  {
   "cell_type": "code",
   "execution_count": 2,
   "id": "48dc7907",
   "metadata": {
    "ExecuteTime": {
     "end_time": "2022-03-29T22:39:22.642215Z",
     "start_time": "2022-03-29T22:39:22.614289Z"
    }
   },
   "outputs": [
    {
     "data": {
      "text/plain": [
       "(12083, 940)"
      ]
     },
     "execution_count": 2,
     "metadata": {},
     "output_type": "execute_result"
    }
   ],
   "source": [
    "# the dimensionality of the DataFrame\n",
    "data.shape"
   ]
  },
  {
   "cell_type": "code",
   "execution_count": 3,
   "id": "28f3a267",
   "metadata": {
    "ExecuteTime": {
     "end_time": "2022-03-29T22:39:22.706046Z",
     "start_time": "2022-03-29T22:39:22.646205Z"
    }
   },
   "outputs": [
    {
     "data": {
      "text/html": [
       "<div>\n",
       "<style scoped>\n",
       "    .dataframe tbody tr th:only-of-type {\n",
       "        vertical-align: middle;\n",
       "    }\n",
       "\n",
       "    .dataframe tbody tr th {\n",
       "        vertical-align: top;\n",
       "    }\n",
       "\n",
       "    .dataframe thead th {\n",
       "        text-align: right;\n",
       "    }\n",
       "</style>\n",
       "<table border=\"1\" class=\"dataframe\">\n",
       "  <thead>\n",
       "    <tr style=\"text-align: right;\">\n",
       "      <th></th>\n",
       "      <th>DOEID</th>\n",
       "      <th>REGIONC</th>\n",
       "      <th>DIVISION</th>\n",
       "      <th>REPORTABLE_DOMAIN</th>\n",
       "      <th>TYPEHUQ</th>\n",
       "      <th>NWEIGHT</th>\n",
       "      <th>HDD65</th>\n",
       "      <th>CDD65</th>\n",
       "      <th>HDD30YR</th>\n",
       "      <th>CDD30YR</th>\n",
       "      <th>...</th>\n",
       "      <th>SCALEKER</th>\n",
       "      <th>IECC_Climate_Pub</th>\n",
       "      <th>HDD50</th>\n",
       "      <th>CDD80</th>\n",
       "      <th>GND_HDD65</th>\n",
       "      <th>WSF</th>\n",
       "      <th>OA_LAT</th>\n",
       "      <th>GWT</th>\n",
       "      <th>DesignDBT99</th>\n",
       "      <th>DesignDBT1</th>\n",
       "    </tr>\n",
       "  </thead>\n",
       "  <tbody>\n",
       "    <tr>\n",
       "      <th>0</th>\n",
       "      <td>1</td>\n",
       "      <td>2</td>\n",
       "      <td>4</td>\n",
       "      <td>12</td>\n",
       "      <td>2</td>\n",
       "      <td>2471.68</td>\n",
       "      <td>4742</td>\n",
       "      <td>1080</td>\n",
       "      <td>4953</td>\n",
       "      <td>1271</td>\n",
       "      <td>...</td>\n",
       "      <td>-2</td>\n",
       "      <td>4A</td>\n",
       "      <td>2117</td>\n",
       "      <td>56</td>\n",
       "      <td>4250</td>\n",
       "      <td>0.48</td>\n",
       "      <td>6</td>\n",
       "      <td>56</td>\n",
       "      <td>9</td>\n",
       "      <td>96</td>\n",
       "    </tr>\n",
       "    <tr>\n",
       "      <th>1</th>\n",
       "      <td>2</td>\n",
       "      <td>4</td>\n",
       "      <td>10</td>\n",
       "      <td>26</td>\n",
       "      <td>2</td>\n",
       "      <td>8599.17</td>\n",
       "      <td>2662</td>\n",
       "      <td>199</td>\n",
       "      <td>2688</td>\n",
       "      <td>143</td>\n",
       "      <td>...</td>\n",
       "      <td>-2</td>\n",
       "      <td>3C</td>\n",
       "      <td>62</td>\n",
       "      <td>26</td>\n",
       "      <td>2393</td>\n",
       "      <td>0.61</td>\n",
       "      <td>0</td>\n",
       "      <td>64</td>\n",
       "      <td>38</td>\n",
       "      <td>73</td>\n",
       "    </tr>\n",
       "    <tr>\n",
       "      <th>2</th>\n",
       "      <td>3</td>\n",
       "      <td>1</td>\n",
       "      <td>1</td>\n",
       "      <td>1</td>\n",
       "      <td>5</td>\n",
       "      <td>8969.92</td>\n",
       "      <td>6233</td>\n",
       "      <td>505</td>\n",
       "      <td>5741</td>\n",
       "      <td>829</td>\n",
       "      <td>...</td>\n",
       "      <td>-2</td>\n",
       "      <td>5A</td>\n",
       "      <td>2346</td>\n",
       "      <td>49</td>\n",
       "      <td>5654</td>\n",
       "      <td>0.48</td>\n",
       "      <td>3</td>\n",
       "      <td>52</td>\n",
       "      <td>12</td>\n",
       "      <td>88</td>\n",
       "    </tr>\n",
       "    <tr>\n",
       "      <th>3</th>\n",
       "      <td>4</td>\n",
       "      <td>2</td>\n",
       "      <td>3</td>\n",
       "      <td>7</td>\n",
       "      <td>2</td>\n",
       "      <td>18003.64</td>\n",
       "      <td>6034</td>\n",
       "      <td>672</td>\n",
       "      <td>5781</td>\n",
       "      <td>868</td>\n",
       "      <td>...</td>\n",
       "      <td>-2</td>\n",
       "      <td>5A</td>\n",
       "      <td>2746</td>\n",
       "      <td>0</td>\n",
       "      <td>4941</td>\n",
       "      <td>0.55</td>\n",
       "      <td>4</td>\n",
       "      <td>55</td>\n",
       "      <td>7</td>\n",
       "      <td>87</td>\n",
       "    </tr>\n",
       "    <tr>\n",
       "      <th>4</th>\n",
       "      <td>5</td>\n",
       "      <td>1</td>\n",
       "      <td>1</td>\n",
       "      <td>1</td>\n",
       "      <td>3</td>\n",
       "      <td>5999.61</td>\n",
       "      <td>5388</td>\n",
       "      <td>702</td>\n",
       "      <td>5313</td>\n",
       "      <td>797</td>\n",
       "      <td>...</td>\n",
       "      <td>-2</td>\n",
       "      <td>5A</td>\n",
       "      <td>2251</td>\n",
       "      <td>0</td>\n",
       "      <td>5426</td>\n",
       "      <td>0.61</td>\n",
       "      <td>4</td>\n",
       "      <td>50</td>\n",
       "      <td>13</td>\n",
       "      <td>90</td>\n",
       "    </tr>\n",
       "  </tbody>\n",
       "</table>\n",
       "<p>5 rows × 940 columns</p>\n",
       "</div>"
      ],
      "text/plain": [
       "   DOEID  REGIONC  DIVISION  REPORTABLE_DOMAIN  TYPEHUQ   NWEIGHT  HDD65  \\\n",
       "0      1        2         4                 12        2   2471.68   4742   \n",
       "1      2        4        10                 26        2   8599.17   2662   \n",
       "2      3        1         1                  1        5   8969.92   6233   \n",
       "3      4        2         3                  7        2  18003.64   6034   \n",
       "4      5        1         1                  1        3   5999.61   5388   \n",
       "\n",
       "   CDD65  HDD30YR  CDD30YR  ...  SCALEKER  IECC_Climate_Pub HDD50 CDD80  \\\n",
       "0   1080     4953     1271  ...        -2                4A  2117    56   \n",
       "1    199     2688      143  ...        -2                3C    62    26   \n",
       "2    505     5741      829  ...        -2                5A  2346    49   \n",
       "3    672     5781      868  ...        -2                5A  2746     0   \n",
       "4    702     5313      797  ...        -2                5A  2251     0   \n",
       "\n",
       "   GND_HDD65   WSF  OA_LAT  GWT  DesignDBT99  DesignDBT1  \n",
       "0       4250  0.48       6   56            9          96  \n",
       "1       2393  0.61       0   64           38          73  \n",
       "2       5654  0.48       3   52           12          88  \n",
       "3       4941  0.55       4   55            7          87  \n",
       "4       5426  0.61       4   50           13          90  \n",
       "\n",
       "[5 rows x 940 columns]"
      ]
     },
     "execution_count": 3,
     "metadata": {},
     "output_type": "execute_result"
    }
   ],
   "source": [
    "# first 5 rows of dataframe\n",
    "data.head()"
   ]
  },
  {
   "cell_type": "code",
   "execution_count": 4,
   "id": "6a8b4d37",
   "metadata": {
    "ExecuteTime": {
     "end_time": "2022-03-29T22:39:24.995917Z",
     "start_time": "2022-03-29T22:39:22.710034Z"
    },
    "scrolled": true
   },
   "outputs": [
    {
     "data": {
      "text/html": [
       "<div>\n",
       "<style scoped>\n",
       "    .dataframe tbody tr th:only-of-type {\n",
       "        vertical-align: middle;\n",
       "    }\n",
       "\n",
       "    .dataframe tbody tr th {\n",
       "        vertical-align: top;\n",
       "    }\n",
       "\n",
       "    .dataframe thead th {\n",
       "        text-align: right;\n",
       "    }\n",
       "</style>\n",
       "<table border=\"1\" class=\"dataframe\">\n",
       "  <thead>\n",
       "    <tr style=\"text-align: right;\">\n",
       "      <th></th>\n",
       "      <th>DOEID</th>\n",
       "      <th>REGIONC</th>\n",
       "      <th>DIVISION</th>\n",
       "      <th>REPORTABLE_DOMAIN</th>\n",
       "      <th>TYPEHUQ</th>\n",
       "      <th>NWEIGHT</th>\n",
       "      <th>HDD65</th>\n",
       "      <th>CDD65</th>\n",
       "      <th>HDD30YR</th>\n",
       "      <th>CDD30YR</th>\n",
       "      <th>...</th>\n",
       "      <th>PERIODKR</th>\n",
       "      <th>SCALEKER</th>\n",
       "      <th>HDD50</th>\n",
       "      <th>CDD80</th>\n",
       "      <th>GND_HDD65</th>\n",
       "      <th>WSF</th>\n",
       "      <th>OA_LAT</th>\n",
       "      <th>GWT</th>\n",
       "      <th>DesignDBT99</th>\n",
       "      <th>DesignDBT1</th>\n",
       "    </tr>\n",
       "  </thead>\n",
       "  <tbody>\n",
       "    <tr>\n",
       "      <th>count</th>\n",
       "      <td>12083.000000</td>\n",
       "      <td>12083.000000</td>\n",
       "      <td>12083.000000</td>\n",
       "      <td>12083.000000</td>\n",
       "      <td>12083.000000</td>\n",
       "      <td>12083.000000</td>\n",
       "      <td>12083.000000</td>\n",
       "      <td>12083.000000</td>\n",
       "      <td>12083.000000</td>\n",
       "      <td>12083.000000</td>\n",
       "      <td>...</td>\n",
       "      <td>12083.000000</td>\n",
       "      <td>12083.000000</td>\n",
       "      <td>12083.000000</td>\n",
       "      <td>12083.000000</td>\n",
       "      <td>12083.000000</td>\n",
       "      <td>12083.000000</td>\n",
       "      <td>12083.000000</td>\n",
       "      <td>12083.000000</td>\n",
       "      <td>12083.000000</td>\n",
       "      <td>12083.000000</td>\n",
       "    </tr>\n",
       "    <tr>\n",
       "      <th>mean</th>\n",
       "      <td>6042.000000</td>\n",
       "      <td>2.628321</td>\n",
       "      <td>5.373086</td>\n",
       "      <td>14.783663</td>\n",
       "      <td>2.659604</td>\n",
       "      <td>9402.981870</td>\n",
       "      <td>4141.375238</td>\n",
       "      <td>1415.406108</td>\n",
       "      <td>4135.146983</td>\n",
       "      <td>1443.503104</td>\n",
       "      <td>...</td>\n",
       "      <td>-1.935943</td>\n",
       "      <td>-1.955392</td>\n",
       "      <td>1681.961764</td>\n",
       "      <td>139.568485</td>\n",
       "      <td>3763.728544</td>\n",
       "      <td>0.499036</td>\n",
       "      <td>5.656046</td>\n",
       "      <td>59.128693</td>\n",
       "      <td>20.256311</td>\n",
       "      <td>90.359431</td>\n",
       "    </tr>\n",
       "    <tr>\n",
       "      <th>std</th>\n",
       "      <td>3488.205986</td>\n",
       "      <td>1.042142</td>\n",
       "      <td>2.859366</td>\n",
       "      <td>8.195824</td>\n",
       "      <td>1.192627</td>\n",
       "      <td>5192.101419</td>\n",
       "      <td>2317.759375</td>\n",
       "      <td>1134.659475</td>\n",
       "      <td>2260.543686</td>\n",
       "      <td>1021.748722</td>\n",
       "      <td>...</td>\n",
       "      <td>0.589907</td>\n",
       "      <td>0.415810</td>\n",
       "      <td>1401.079218</td>\n",
       "      <td>264.186908</td>\n",
       "      <td>2597.754419</td>\n",
       "      <td>0.083520</td>\n",
       "      <td>6.797205</td>\n",
       "      <td>8.678293</td>\n",
       "      <td>15.337626</td>\n",
       "      <td>6.166669</td>\n",
       "    </tr>\n",
       "    <tr>\n",
       "      <th>min</th>\n",
       "      <td>1.000000</td>\n",
       "      <td>1.000000</td>\n",
       "      <td>1.000000</td>\n",
       "      <td>1.000000</td>\n",
       "      <td>1.000000</td>\n",
       "      <td>476.100000</td>\n",
       "      <td>0.000000</td>\n",
       "      <td>0.000000</td>\n",
       "      <td>0.000000</td>\n",
       "      <td>0.000000</td>\n",
       "      <td>...</td>\n",
       "      <td>-2.000000</td>\n",
       "      <td>-2.000000</td>\n",
       "      <td>0.000000</td>\n",
       "      <td>0.000000</td>\n",
       "      <td>0.000000</td>\n",
       "      <td>0.310000</td>\n",
       "      <td>0.000000</td>\n",
       "      <td>36.000000</td>\n",
       "      <td>-23.000000</td>\n",
       "      <td>60.000000</td>\n",
       "    </tr>\n",
       "    <tr>\n",
       "      <th>25%</th>\n",
       "      <td>3021.500000</td>\n",
       "      <td>2.000000</td>\n",
       "      <td>3.000000</td>\n",
       "      <td>8.000000</td>\n",
       "      <td>2.000000</td>\n",
       "      <td>6297.040000</td>\n",
       "      <td>2197.500000</td>\n",
       "      <td>561.000000</td>\n",
       "      <td>2224.000000</td>\n",
       "      <td>712.000000</td>\n",
       "      <td>...</td>\n",
       "      <td>-2.000000</td>\n",
       "      <td>-2.000000</td>\n",
       "      <td>262.500000</td>\n",
       "      <td>4.000000</td>\n",
       "      <td>1246.500000</td>\n",
       "      <td>0.430000</td>\n",
       "      <td>1.000000</td>\n",
       "      <td>52.000000</td>\n",
       "      <td>9.000000</td>\n",
       "      <td>87.000000</td>\n",
       "    </tr>\n",
       "    <tr>\n",
       "      <th>50%</th>\n",
       "      <td>6042.000000</td>\n",
       "      <td>3.000000</td>\n",
       "      <td>5.000000</td>\n",
       "      <td>15.000000</td>\n",
       "      <td>2.000000</td>\n",
       "      <td>7970.630000</td>\n",
       "      <td>4483.000000</td>\n",
       "      <td>1045.000000</td>\n",
       "      <td>4502.000000</td>\n",
       "      <td>1179.000000</td>\n",
       "      <td>...</td>\n",
       "      <td>-2.000000</td>\n",
       "      <td>-2.000000</td>\n",
       "      <td>1684.000000</td>\n",
       "      <td>30.000000</td>\n",
       "      <td>3878.000000</td>\n",
       "      <td>0.500000</td>\n",
       "      <td>3.000000</td>\n",
       "      <td>58.000000</td>\n",
       "      <td>18.000000</td>\n",
       "      <td>90.000000</td>\n",
       "    </tr>\n",
       "    <tr>\n",
       "      <th>75%</th>\n",
       "      <td>9062.500000</td>\n",
       "      <td>3.000000</td>\n",
       "      <td>7.000000</td>\n",
       "      <td>21.000000</td>\n",
       "      <td>3.000000</td>\n",
       "      <td>11330.030000</td>\n",
       "      <td>5913.000000</td>\n",
       "      <td>1897.000000</td>\n",
       "      <td>5854.000000</td>\n",
       "      <td>1842.500000</td>\n",
       "      <td>...</td>\n",
       "      <td>-2.000000</td>\n",
       "      <td>-2.000000</td>\n",
       "      <td>2662.000000</td>\n",
       "      <td>117.000000</td>\n",
       "      <td>5834.000000</td>\n",
       "      <td>0.560000</td>\n",
       "      <td>7.000000</td>\n",
       "      <td>66.000000</td>\n",
       "      <td>33.000000</td>\n",
       "      <td>94.000000</td>\n",
       "    </tr>\n",
       "    <tr>\n",
       "      <th>max</th>\n",
       "      <td>12083.000000</td>\n",
       "      <td>4.000000</td>\n",
       "      <td>10.000000</td>\n",
       "      <td>27.000000</td>\n",
       "      <td>5.000000</td>\n",
       "      <td>95779.140000</td>\n",
       "      <td>12525.000000</td>\n",
       "      <td>5480.000000</td>\n",
       "      <td>13346.000000</td>\n",
       "      <td>5357.000000</td>\n",
       "      <td>...</td>\n",
       "      <td>5.000000</td>\n",
       "      <td>3.000000</td>\n",
       "      <td>7623.000000</td>\n",
       "      <td>1884.000000</td>\n",
       "      <td>11567.000000</td>\n",
       "      <td>0.800000</td>\n",
       "      <td>34.000000</td>\n",
       "      <td>89.000000</td>\n",
       "      <td>67.000000</td>\n",
       "      <td>118.000000</td>\n",
       "    </tr>\n",
       "  </tbody>\n",
       "</table>\n",
       "<p>8 rows × 935 columns</p>\n",
       "</div>"
      ],
      "text/plain": [
       "              DOEID       REGIONC      DIVISION  REPORTABLE_DOMAIN  \\\n",
       "count  12083.000000  12083.000000  12083.000000       12083.000000   \n",
       "mean    6042.000000      2.628321      5.373086          14.783663   \n",
       "std     3488.205986      1.042142      2.859366           8.195824   \n",
       "min        1.000000      1.000000      1.000000           1.000000   \n",
       "25%     3021.500000      2.000000      3.000000           8.000000   \n",
       "50%     6042.000000      3.000000      5.000000          15.000000   \n",
       "75%     9062.500000      3.000000      7.000000          21.000000   \n",
       "max    12083.000000      4.000000     10.000000          27.000000   \n",
       "\n",
       "            TYPEHUQ       NWEIGHT         HDD65         CDD65       HDD30YR  \\\n",
       "count  12083.000000  12083.000000  12083.000000  12083.000000  12083.000000   \n",
       "mean       2.659604   9402.981870   4141.375238   1415.406108   4135.146983   \n",
       "std        1.192627   5192.101419   2317.759375   1134.659475   2260.543686   \n",
       "min        1.000000    476.100000      0.000000      0.000000      0.000000   \n",
       "25%        2.000000   6297.040000   2197.500000    561.000000   2224.000000   \n",
       "50%        2.000000   7970.630000   4483.000000   1045.000000   4502.000000   \n",
       "75%        3.000000  11330.030000   5913.000000   1897.000000   5854.000000   \n",
       "max        5.000000  95779.140000  12525.000000   5480.000000  13346.000000   \n",
       "\n",
       "            CDD30YR  ...      PERIODKR      SCALEKER         HDD50  \\\n",
       "count  12083.000000  ...  12083.000000  12083.000000  12083.000000   \n",
       "mean    1443.503104  ...     -1.935943     -1.955392   1681.961764   \n",
       "std     1021.748722  ...      0.589907      0.415810   1401.079218   \n",
       "min        0.000000  ...     -2.000000     -2.000000      0.000000   \n",
       "25%      712.000000  ...     -2.000000     -2.000000    262.500000   \n",
       "50%     1179.000000  ...     -2.000000     -2.000000   1684.000000   \n",
       "75%     1842.500000  ...     -2.000000     -2.000000   2662.000000   \n",
       "max     5357.000000  ...      5.000000      3.000000   7623.000000   \n",
       "\n",
       "              CDD80     GND_HDD65           WSF        OA_LAT           GWT  \\\n",
       "count  12083.000000  12083.000000  12083.000000  12083.000000  12083.000000   \n",
       "mean     139.568485   3763.728544      0.499036      5.656046     59.128693   \n",
       "std      264.186908   2597.754419      0.083520      6.797205      8.678293   \n",
       "min        0.000000      0.000000      0.310000      0.000000     36.000000   \n",
       "25%        4.000000   1246.500000      0.430000      1.000000     52.000000   \n",
       "50%       30.000000   3878.000000      0.500000      3.000000     58.000000   \n",
       "75%      117.000000   5834.000000      0.560000      7.000000     66.000000   \n",
       "max     1884.000000  11567.000000      0.800000     34.000000     89.000000   \n",
       "\n",
       "        DesignDBT99    DesignDBT1  \n",
       "count  12083.000000  12083.000000  \n",
       "mean      20.256311     90.359431  \n",
       "std       15.337626      6.166669  \n",
       "min      -23.000000     60.000000  \n",
       "25%        9.000000     87.000000  \n",
       "50%       18.000000     90.000000  \n",
       "75%       33.000000     94.000000  \n",
       "max       67.000000    118.000000  \n",
       "\n",
       "[8 rows x 935 columns]"
      ]
     },
     "execution_count": 4,
     "metadata": {},
     "output_type": "execute_result"
    }
   ],
   "source": [
    "# get basic dataframe information\n",
    "data.describe()"
   ]
  },
  {
   "cell_type": "markdown",
   "id": "0adfb38c",
   "metadata": {},
   "source": [
    "- **DOEID** column is Unique Identifier for each respondent which is not useful for training models. We can drop it. "
   ]
  },
  {
   "cell_type": "code",
   "execution_count": 5,
   "id": "215c6a33",
   "metadata": {
    "ExecuteTime": {
     "end_time": "2022-03-29T22:39:25.042795Z",
     "start_time": "2022-03-29T22:39:24.997914Z"
    }
   },
   "outputs": [],
   "source": [
    "# drop DOEID column\n",
    "data = data.drop('DOEID', axis = 1)"
   ]
  },
  {
   "cell_type": "code",
   "execution_count": 6,
   "id": "9329b56d",
   "metadata": {
    "ExecuteTime": {
     "end_time": "2022-03-29T22:39:25.074708Z",
     "start_time": "2022-03-29T22:39:25.046786Z"
    }
   },
   "outputs": [
    {
     "data": {
      "text/html": [
       "<div>\n",
       "<style scoped>\n",
       "    .dataframe tbody tr th:only-of-type {\n",
       "        vertical-align: middle;\n",
       "    }\n",
       "\n",
       "    .dataframe tbody tr th {\n",
       "        vertical-align: top;\n",
       "    }\n",
       "\n",
       "    .dataframe thead th {\n",
       "        text-align: right;\n",
       "    }\n",
       "</style>\n",
       "<table border=\"1\" class=\"dataframe\">\n",
       "  <thead>\n",
       "    <tr style=\"text-align: right;\">\n",
       "      <th></th>\n",
       "      <th>REGIONC</th>\n",
       "      <th>DIVISION</th>\n",
       "      <th>REPORTABLE_DOMAIN</th>\n",
       "      <th>TYPEHUQ</th>\n",
       "      <th>NWEIGHT</th>\n",
       "      <th>HDD65</th>\n",
       "      <th>CDD65</th>\n",
       "      <th>HDD30YR</th>\n",
       "      <th>CDD30YR</th>\n",
       "      <th>Climate_Region_Pub</th>\n",
       "      <th>...</th>\n",
       "      <th>SCALEKER</th>\n",
       "      <th>IECC_Climate_Pub</th>\n",
       "      <th>HDD50</th>\n",
       "      <th>CDD80</th>\n",
       "      <th>GND_HDD65</th>\n",
       "      <th>WSF</th>\n",
       "      <th>OA_LAT</th>\n",
       "      <th>GWT</th>\n",
       "      <th>DesignDBT99</th>\n",
       "      <th>DesignDBT1</th>\n",
       "    </tr>\n",
       "  </thead>\n",
       "  <tbody>\n",
       "    <tr>\n",
       "      <th>0</th>\n",
       "      <td>2</td>\n",
       "      <td>4</td>\n",
       "      <td>12</td>\n",
       "      <td>2</td>\n",
       "      <td>2471.68</td>\n",
       "      <td>4742</td>\n",
       "      <td>1080</td>\n",
       "      <td>4953</td>\n",
       "      <td>1271</td>\n",
       "      <td>4</td>\n",
       "      <td>...</td>\n",
       "      <td>-2</td>\n",
       "      <td>4A</td>\n",
       "      <td>2117</td>\n",
       "      <td>56</td>\n",
       "      <td>4250</td>\n",
       "      <td>0.48</td>\n",
       "      <td>6</td>\n",
       "      <td>56</td>\n",
       "      <td>9</td>\n",
       "      <td>96</td>\n",
       "    </tr>\n",
       "    <tr>\n",
       "      <th>1</th>\n",
       "      <td>4</td>\n",
       "      <td>10</td>\n",
       "      <td>26</td>\n",
       "      <td>2</td>\n",
       "      <td>8599.17</td>\n",
       "      <td>2662</td>\n",
       "      <td>199</td>\n",
       "      <td>2688</td>\n",
       "      <td>143</td>\n",
       "      <td>5</td>\n",
       "      <td>...</td>\n",
       "      <td>-2</td>\n",
       "      <td>3C</td>\n",
       "      <td>62</td>\n",
       "      <td>26</td>\n",
       "      <td>2393</td>\n",
       "      <td>0.61</td>\n",
       "      <td>0</td>\n",
       "      <td>64</td>\n",
       "      <td>38</td>\n",
       "      <td>73</td>\n",
       "    </tr>\n",
       "    <tr>\n",
       "      <th>2</th>\n",
       "      <td>1</td>\n",
       "      <td>1</td>\n",
       "      <td>1</td>\n",
       "      <td>5</td>\n",
       "      <td>8969.92</td>\n",
       "      <td>6233</td>\n",
       "      <td>505</td>\n",
       "      <td>5741</td>\n",
       "      <td>829</td>\n",
       "      <td>1</td>\n",
       "      <td>...</td>\n",
       "      <td>-2</td>\n",
       "      <td>5A</td>\n",
       "      <td>2346</td>\n",
       "      <td>49</td>\n",
       "      <td>5654</td>\n",
       "      <td>0.48</td>\n",
       "      <td>3</td>\n",
       "      <td>52</td>\n",
       "      <td>12</td>\n",
       "      <td>88</td>\n",
       "    </tr>\n",
       "    <tr>\n",
       "      <th>3</th>\n",
       "      <td>2</td>\n",
       "      <td>3</td>\n",
       "      <td>7</td>\n",
       "      <td>2</td>\n",
       "      <td>18003.64</td>\n",
       "      <td>6034</td>\n",
       "      <td>672</td>\n",
       "      <td>5781</td>\n",
       "      <td>868</td>\n",
       "      <td>1</td>\n",
       "      <td>...</td>\n",
       "      <td>-2</td>\n",
       "      <td>5A</td>\n",
       "      <td>2746</td>\n",
       "      <td>0</td>\n",
       "      <td>4941</td>\n",
       "      <td>0.55</td>\n",
       "      <td>4</td>\n",
       "      <td>55</td>\n",
       "      <td>7</td>\n",
       "      <td>87</td>\n",
       "    </tr>\n",
       "    <tr>\n",
       "      <th>4</th>\n",
       "      <td>1</td>\n",
       "      <td>1</td>\n",
       "      <td>1</td>\n",
       "      <td>3</td>\n",
       "      <td>5999.61</td>\n",
       "      <td>5388</td>\n",
       "      <td>702</td>\n",
       "      <td>5313</td>\n",
       "      <td>797</td>\n",
       "      <td>1</td>\n",
       "      <td>...</td>\n",
       "      <td>-2</td>\n",
       "      <td>5A</td>\n",
       "      <td>2251</td>\n",
       "      <td>0</td>\n",
       "      <td>5426</td>\n",
       "      <td>0.61</td>\n",
       "      <td>4</td>\n",
       "      <td>50</td>\n",
       "      <td>13</td>\n",
       "      <td>90</td>\n",
       "    </tr>\n",
       "  </tbody>\n",
       "</table>\n",
       "<p>5 rows × 939 columns</p>\n",
       "</div>"
      ],
      "text/plain": [
       "   REGIONC  DIVISION  REPORTABLE_DOMAIN  TYPEHUQ   NWEIGHT  HDD65  CDD65  \\\n",
       "0        2         4                 12        2   2471.68   4742   1080   \n",
       "1        4        10                 26        2   8599.17   2662    199   \n",
       "2        1         1                  1        5   8969.92   6233    505   \n",
       "3        2         3                  7        2  18003.64   6034    672   \n",
       "4        1         1                  1        3   5999.61   5388    702   \n",
       "\n",
       "   HDD30YR  CDD30YR  Climate_Region_Pub  ...  SCALEKER IECC_Climate_Pub HDD50  \\\n",
       "0     4953     1271                   4  ...        -2               4A  2117   \n",
       "1     2688      143                   5  ...        -2               3C    62   \n",
       "2     5741      829                   1  ...        -2               5A  2346   \n",
       "3     5781      868                   1  ...        -2               5A  2746   \n",
       "4     5313      797                   1  ...        -2               5A  2251   \n",
       "\n",
       "   CDD80  GND_HDD65   WSF  OA_LAT  GWT  DesignDBT99  DesignDBT1  \n",
       "0     56       4250  0.48       6   56            9          96  \n",
       "1     26       2393  0.61       0   64           38          73  \n",
       "2     49       5654  0.48       3   52           12          88  \n",
       "3      0       4941  0.55       4   55            7          87  \n",
       "4      0       5426  0.61       4   50           13          90  \n",
       "\n",
       "[5 rows x 939 columns]"
      ]
     },
     "execution_count": 6,
     "metadata": {},
     "output_type": "execute_result"
    }
   ],
   "source": [
    "data.head()"
   ]
  },
  {
   "cell_type": "code",
   "execution_count": 7,
   "id": "a0302f0f",
   "metadata": {
    "ExecuteTime": {
     "end_time": "2022-03-29T22:39:25.121583Z",
     "start_time": "2022-03-29T22:39:25.077701Z"
    }
   },
   "outputs": [
    {
     "data": {
      "text/plain": [
       "REGIONC              0\n",
       "DIVISION             0\n",
       "REPORTABLE_DOMAIN    0\n",
       "TYPEHUQ              0\n",
       "NWEIGHT              0\n",
       "                    ..\n",
       "WSF                  0\n",
       "OA_LAT               0\n",
       "GWT                  0\n",
       "DesignDBT99          0\n",
       "DesignDBT1           0\n",
       "Length: 939, dtype: int64"
      ]
     },
     "execution_count": 7,
     "metadata": {},
     "output_type": "execute_result"
    }
   ],
   "source": [
    "# count of missing values column wise\n",
    "data.isnull().sum()"
   ]
  },
  {
   "cell_type": "code",
   "execution_count": 8,
   "id": "98769430",
   "metadata": {
    "ExecuteTime": {
     "end_time": "2022-03-29T22:39:25.168492Z",
     "start_time": "2022-03-29T22:39:25.124573Z"
    }
   },
   "outputs": [
    {
     "data": {
      "text/plain": [
       "0"
      ]
     },
     "execution_count": 8,
     "metadata": {},
     "output_type": "execute_result"
    }
   ],
   "source": [
    "# count of missing values of the entire dataframe \n",
    "data.isnull().sum().sum()"
   ]
  },
  {
   "cell_type": "markdown",
   "id": "2028fb9f",
   "metadata": {},
   "source": [
    "- There is no missing value in the dataset."
   ]
  },
  {
   "cell_type": "markdown",
   "id": "26eb4d1d",
   "metadata": {},
   "source": [
    "## Dealing with outliers"
   ]
  },
  {
   "cell_type": "code",
   "execution_count": 9,
   "id": "5f38b87c",
   "metadata": {
    "ExecuteTime": {
     "end_time": "2022-03-29T22:39:32.910853Z",
     "start_time": "2022-03-29T22:39:25.170454Z"
    }
   },
   "outputs": [],
   "source": [
    "# replace outliers with upper limit and lower limt\n",
    "def cap_data(df):\n",
    "    '''\n",
    "    INPUT: df, original dataframe\n",
    "    OUTPUT: df, dataframe without outliers\n",
    "    '''\n",
    "    for col in df.columns:\n",
    "        if (((df[col].dtype) == 'float64') | ((df[col].dtype) == 'int64')):\n",
    "            percentiles = df[col].quantile([0.01, 0.99]).values\n",
    "            df[col][df[col] <= percentiles[0]] = percentiles[0]\n",
    "            df[col][df[col] >= percentiles[1]] = percentiles[1]\n",
    "        else:\n",
    "            df[col] = df[col]\n",
    "    return df\n",
    "\n",
    "\n",
    "data = cap_data(data)"
   ]
  },
  {
   "cell_type": "code",
   "execution_count": 10,
   "id": "9a891d2d",
   "metadata": {
    "ExecuteTime": {
     "end_time": "2022-03-29T22:39:32.925812Z",
     "start_time": "2022-03-29T22:39:32.912847Z"
    }
   },
   "outputs": [
    {
     "data": {
      "text/plain": [
       "REGIONC                int64\n",
       "DIVISION               int64\n",
       "REPORTABLE_DOMAIN      int64\n",
       "TYPEHUQ                int64\n",
       "NWEIGHT              float64\n",
       "                      ...   \n",
       "WSF                  float64\n",
       "OA_LAT                 int64\n",
       "GWT                  float64\n",
       "DesignDBT99            int64\n",
       "DesignDBT1             int64\n",
       "Length: 939, dtype: object"
      ]
     },
     "execution_count": 10,
     "metadata": {},
     "output_type": "execute_result"
    }
   ],
   "source": [
    "# data type of each column\n",
    "data.dtypes"
   ]
  },
  {
   "cell_type": "code",
   "execution_count": 11,
   "id": "4f68d750",
   "metadata": {
    "ExecuteTime": {
     "end_time": "2022-03-29T22:39:32.940772Z",
     "start_time": "2022-03-29T22:39:32.928805Z"
    }
   },
   "outputs": [
    {
     "data": {
      "text/plain": [
       "array([dtype('int64'), dtype('float64'), dtype('O')], dtype=object)"
      ]
     },
     "execution_count": 11,
     "metadata": {},
     "output_type": "execute_result"
    }
   ],
   "source": [
    "# unique data type\n",
    "data.dtypes.unique()"
   ]
  },
  {
   "cell_type": "code",
   "execution_count": 12,
   "id": "835e676f",
   "metadata": {
    "ExecuteTime": {
     "end_time": "2022-03-29T22:39:32.987651Z",
     "start_time": "2022-03-29T22:39:32.942764Z"
    }
   },
   "outputs": [
    {
     "data": {
      "text/plain": [
       "938"
      ]
     },
     "execution_count": 12,
     "metadata": {},
     "output_type": "execute_result"
    }
   ],
   "source": [
    "# features\n",
    "X = data.drop('KWH', axis = 1)\n",
    "len(X.columns)"
   ]
  },
  {
   "cell_type": "code",
   "execution_count": 13,
   "id": "3ad75cca",
   "metadata": {
    "ExecuteTime": {
     "end_time": "2022-03-29T22:39:33.003601Z",
     "start_time": "2022-03-29T22:39:32.989639Z"
    }
   },
   "outputs": [],
   "source": [
    "# target variable\n",
    "y = data[['KWH']]"
   ]
  },
  {
   "cell_type": "markdown",
   "id": "06c134aa",
   "metadata": {},
   "source": [
    "## Encoding Categorical Variables"
   ]
  },
  {
   "cell_type": "code",
   "execution_count": 14,
   "id": "d8af61c1",
   "metadata": {
    "ExecuteTime": {
     "end_time": "2022-03-29T22:39:33.034554Z",
     "start_time": "2022-03-29T22:39:33.005596Z"
    }
   },
   "outputs": [],
   "source": [
    "# object data type categorical variables\n",
    "cat_columns1 = list(X.select_dtypes(include='O').columns)\n",
    "X[cat_columns1] = X[cat_columns1].astype('category')"
   ]
  },
  {
   "cell_type": "code",
   "execution_count": 15,
   "id": "030d6f4b",
   "metadata": {
    "ExecuteTime": {
     "end_time": "2022-03-29T22:39:33.066436Z",
     "start_time": "2022-03-29T22:39:33.036518Z"
    }
   },
   "outputs": [
    {
     "data": {
      "text/html": [
       "<div>\n",
       "<style scoped>\n",
       "    .dataframe tbody tr th:only-of-type {\n",
       "        vertical-align: middle;\n",
       "    }\n",
       "\n",
       "    .dataframe tbody tr th {\n",
       "        vertical-align: top;\n",
       "    }\n",
       "\n",
       "    .dataframe thead th {\n",
       "        text-align: right;\n",
       "    }\n",
       "</style>\n",
       "<table border=\"1\" class=\"dataframe\">\n",
       "  <thead>\n",
       "    <tr style=\"text-align: right;\">\n",
       "      <th></th>\n",
       "      <th>METROMICRO</th>\n",
       "      <th>UR</th>\n",
       "      <th>NOCRCASH</th>\n",
       "      <th>NKRGALNC</th>\n",
       "      <th>IECC_Climate_Pub</th>\n",
       "    </tr>\n",
       "  </thead>\n",
       "  <tbody>\n",
       "    <tr>\n",
       "      <th>0</th>\n",
       "      <td>0</td>\n",
       "      <td>1</td>\n",
       "      <td>0</td>\n",
       "      <td>0</td>\n",
       "      <td>5</td>\n",
       "    </tr>\n",
       "    <tr>\n",
       "      <th>1</th>\n",
       "      <td>0</td>\n",
       "      <td>1</td>\n",
       "      <td>0</td>\n",
       "      <td>0</td>\n",
       "      <td>4</td>\n",
       "    </tr>\n",
       "    <tr>\n",
       "      <th>2</th>\n",
       "      <td>0</td>\n",
       "      <td>1</td>\n",
       "      <td>0</td>\n",
       "      <td>0</td>\n",
       "      <td>7</td>\n",
       "    </tr>\n",
       "    <tr>\n",
       "      <th>3</th>\n",
       "      <td>0</td>\n",
       "      <td>1</td>\n",
       "      <td>0</td>\n",
       "      <td>0</td>\n",
       "      <td>7</td>\n",
       "    </tr>\n",
       "    <tr>\n",
       "      <th>4</th>\n",
       "      <td>0</td>\n",
       "      <td>1</td>\n",
       "      <td>0</td>\n",
       "      <td>0</td>\n",
       "      <td>7</td>\n",
       "    </tr>\n",
       "  </tbody>\n",
       "</table>\n",
       "</div>"
      ],
      "text/plain": [
       "   METROMICRO  UR  NOCRCASH  NKRGALNC  IECC_Climate_Pub\n",
       "0           0   1         0         0                 5\n",
       "1           0   1         0         0                 4\n",
       "2           0   1         0         0                 7\n",
       "3           0   1         0         0                 7\n",
       "4           0   1         0         0                 7"
      ]
     },
     "execution_count": 15,
     "metadata": {},
     "output_type": "execute_result"
    }
   ],
   "source": [
    "# encode obejct columns\n",
    "for col in cat_columns1:\n",
    "    X[col] = X[col].cat.codes\n",
    "X[cat_columns1].head()"
   ]
  },
  {
   "cell_type": "markdown",
   "id": "6ac7b7d9",
   "metadata": {},
   "source": [
    "We move on numerical columns. Here we make some assumptions about categorical variables if they have numeric values. It need satisfy both conditions below to be considered as categorical columns.\n",
    "1. numerical columns that have **smaller than 5** unique values are categorical columns. \n",
    "2. numerical columns that have standard deviation of **below 5**."
   ]
  },
  {
   "cell_type": "code",
   "execution_count": 16,
   "id": "c2b45ba4",
   "metadata": {
    "ExecuteTime": {
     "end_time": "2022-03-29T22:39:33.908200Z",
     "start_time": "2022-03-29T22:39:33.068431Z"
    }
   },
   "outputs": [
    {
     "data": {
      "text/plain": [
       "757"
      ]
     },
     "execution_count": 16,
     "metadata": {},
     "output_type": "execute_result"
    }
   ],
   "source": [
    "# below 5 unique values\n",
    "nunique_below5 = X.select_dtypes(include='int64').nunique(\n",
    ")[X.select_dtypes(include='int64').nunique() <= 5].index.tolist()\n",
    "len(nunique_below5)"
   ]
  },
  {
   "cell_type": "code",
   "execution_count": 17,
   "id": "49d73e79",
   "metadata": {
    "ExecuteTime": {
     "end_time": "2022-03-29T22:39:34.083696Z",
     "start_time": "2022-03-29T22:39:33.910195Z"
    }
   },
   "outputs": [
    {
     "data": {
      "text/plain": [
       "808"
      ]
     },
     "execution_count": 17,
     "metadata": {},
     "output_type": "execute_result"
    }
   ],
   "source": [
    "# standard deviation of 5\n",
    "std_below5 = X.select_dtypes(include='int64').std(\n",
    ")[X.select_dtypes(include='int64').std() <= 5].index.tolist()\n",
    "len(std_below5)"
   ]
  },
  {
   "cell_type": "code",
   "execution_count": 18,
   "id": "a3303076",
   "metadata": {
    "ExecuteTime": {
     "end_time": "2022-03-29T22:39:34.098656Z",
     "start_time": "2022-03-29T22:39:34.085690Z"
    }
   },
   "outputs": [
    {
     "data": {
      "text/plain": [
       "755"
      ]
     },
     "execution_count": 18,
     "metadata": {},
     "output_type": "execute_result"
    }
   ],
   "source": [
    "# only columns satisfied two assumptions \n",
    "cat_columns2 = list(set(std_below5) & set(nunique_below5))\n",
    "len(cat_columns2)"
   ]
  },
  {
   "cell_type": "code",
   "execution_count": 19,
   "id": "77301ea1",
   "metadata": {
    "ExecuteTime": {
     "end_time": "2022-03-29T22:39:34.114649Z",
     "start_time": "2022-03-29T22:39:34.100659Z"
    }
   },
   "outputs": [
    {
     "data": {
      "text/plain": [
       "760"
      ]
     },
     "execution_count": 19,
     "metadata": {},
     "output_type": "execute_result"
    }
   ],
   "source": [
    "# categorical variables subset\n",
    "cat_columns = cat_columns1 + cat_columns2\n",
    "len(cat_columns)"
   ]
  },
  {
   "cell_type": "markdown",
   "id": "ba14d25b",
   "metadata": {},
   "source": [
    "We have 760 categorical columns. "
   ]
  },
  {
   "cell_type": "code",
   "execution_count": 20,
   "id": "33097d51",
   "metadata": {
    "ExecuteTime": {
     "end_time": "2022-03-29T22:39:47.049651Z",
     "start_time": "2022-03-29T22:39:34.116607Z"
    }
   },
   "outputs": [
    {
     "data": {
      "text/html": [
       "<div>\n",
       "<style scoped>\n",
       "    .dataframe tbody tr th:only-of-type {\n",
       "        vertical-align: middle;\n",
       "    }\n",
       "\n",
       "    .dataframe tbody tr th {\n",
       "        vertical-align: top;\n",
       "    }\n",
       "\n",
       "    .dataframe thead th {\n",
       "        text-align: right;\n",
       "    }\n",
       "</style>\n",
       "<table border=\"1\" class=\"dataframe\">\n",
       "  <thead>\n",
       "    <tr style=\"text-align: right;\">\n",
       "      <th></th>\n",
       "      <th>METROMICRO</th>\n",
       "      <th>UR</th>\n",
       "      <th>NOCRCASH</th>\n",
       "      <th>NKRGALNC</th>\n",
       "      <th>IECC_Climate_Pub</th>\n",
       "      <th>ZTEMPHOME</th>\n",
       "      <th>BASEUSE</th>\n",
       "      <th>HELPCFLY</th>\n",
       "      <th>SIZRFRI2</th>\n",
       "      <th>AUTOCOOLDAY</th>\n",
       "      <th>...</th>\n",
       "      <th>ZAGEHHMEMCAT4</th>\n",
       "      <th>HSFUEL</th>\n",
       "      <th>ZGARGHEAT</th>\n",
       "      <th>USEKERO</th>\n",
       "      <th>ZDVD1</th>\n",
       "      <th>ZCHRGPLGE</th>\n",
       "      <th>ZMONITOR2</th>\n",
       "      <th>ESFRIG2</th>\n",
       "      <th>ZCOMBODVR3</th>\n",
       "      <th>WASHTEMP</th>\n",
       "    </tr>\n",
       "  </thead>\n",
       "  <tbody>\n",
       "    <tr>\n",
       "      <th>0</th>\n",
       "      <td>0</td>\n",
       "      <td>1</td>\n",
       "      <td>0</td>\n",
       "      <td>0</td>\n",
       "      <td>5</td>\n",
       "      <td>0</td>\n",
       "      <td>1</td>\n",
       "      <td>-2</td>\n",
       "      <td>4</td>\n",
       "      <td>1</td>\n",
       "      <td>...</td>\n",
       "      <td>0</td>\n",
       "      <td>-2</td>\n",
       "      <td>0</td>\n",
       "      <td>0</td>\n",
       "      <td>0</td>\n",
       "      <td>0</td>\n",
       "      <td>0</td>\n",
       "      <td>1</td>\n",
       "      <td>0</td>\n",
       "      <td>3</td>\n",
       "    </tr>\n",
       "    <tr>\n",
       "      <th>1</th>\n",
       "      <td>0</td>\n",
       "      <td>1</td>\n",
       "      <td>0</td>\n",
       "      <td>0</td>\n",
       "      <td>4</td>\n",
       "      <td>0</td>\n",
       "      <td>-2</td>\n",
       "      <td>-2</td>\n",
       "      <td>-2</td>\n",
       "      <td>-2</td>\n",
       "      <td>...</td>\n",
       "      <td>0</td>\n",
       "      <td>-2</td>\n",
       "      <td>0</td>\n",
       "      <td>0</td>\n",
       "      <td>0</td>\n",
       "      <td>0</td>\n",
       "      <td>0</td>\n",
       "      <td>-2</td>\n",
       "      <td>0</td>\n",
       "      <td>3</td>\n",
       "    </tr>\n",
       "    <tr>\n",
       "      <th>2</th>\n",
       "      <td>0</td>\n",
       "      <td>1</td>\n",
       "      <td>0</td>\n",
       "      <td>0</td>\n",
       "      <td>7</td>\n",
       "      <td>0</td>\n",
       "      <td>-2</td>\n",
       "      <td>-2</td>\n",
       "      <td>-2</td>\n",
       "      <td>-2</td>\n",
       "      <td>...</td>\n",
       "      <td>0</td>\n",
       "      <td>-2</td>\n",
       "      <td>0</td>\n",
       "      <td>0</td>\n",
       "      <td>0</td>\n",
       "      <td>0</td>\n",
       "      <td>0</td>\n",
       "      <td>-2</td>\n",
       "      <td>0</td>\n",
       "      <td>-2</td>\n",
       "    </tr>\n",
       "    <tr>\n",
       "      <th>3</th>\n",
       "      <td>0</td>\n",
       "      <td>1</td>\n",
       "      <td>0</td>\n",
       "      <td>0</td>\n",
       "      <td>7</td>\n",
       "      <td>0</td>\n",
       "      <td>-2</td>\n",
       "      <td>-2</td>\n",
       "      <td>3</td>\n",
       "      <td>-2</td>\n",
       "      <td>...</td>\n",
       "      <td>0</td>\n",
       "      <td>-2</td>\n",
       "      <td>0</td>\n",
       "      <td>0</td>\n",
       "      <td>0</td>\n",
       "      <td>0</td>\n",
       "      <td>0</td>\n",
       "      <td>-2</td>\n",
       "      <td>0</td>\n",
       "      <td>2</td>\n",
       "    </tr>\n",
       "    <tr>\n",
       "      <th>4</th>\n",
       "      <td>0</td>\n",
       "      <td>1</td>\n",
       "      <td>0</td>\n",
       "      <td>0</td>\n",
       "      <td>7</td>\n",
       "      <td>0</td>\n",
       "      <td>1</td>\n",
       "      <td>-2</td>\n",
       "      <td>-2</td>\n",
       "      <td>-2</td>\n",
       "      <td>...</td>\n",
       "      <td>0</td>\n",
       "      <td>-2</td>\n",
       "      <td>0</td>\n",
       "      <td>0</td>\n",
       "      <td>0</td>\n",
       "      <td>0</td>\n",
       "      <td>0</td>\n",
       "      <td>-2</td>\n",
       "      <td>0</td>\n",
       "      <td>2</td>\n",
       "    </tr>\n",
       "  </tbody>\n",
       "</table>\n",
       "<p>5 rows × 760 columns</p>\n",
       "</div>"
      ],
      "text/plain": [
       "  METROMICRO UR NOCRCASH NKRGALNC IECC_Climate_Pub ZTEMPHOME BASEUSE HELPCFLY  \\\n",
       "0          0  1        0        0                5         0       1       -2   \n",
       "1          0  1        0        0                4         0      -2       -2   \n",
       "2          0  1        0        0                7         0      -2       -2   \n",
       "3          0  1        0        0                7         0      -2       -2   \n",
       "4          0  1        0        0                7         0       1       -2   \n",
       "\n",
       "  SIZRFRI2 AUTOCOOLDAY  ... ZAGEHHMEMCAT4 HSFUEL ZGARGHEAT USEKERO ZDVD1  \\\n",
       "0        4           1  ...             0     -2         0       0     0   \n",
       "1       -2          -2  ...             0     -2         0       0     0   \n",
       "2       -2          -2  ...             0     -2         0       0     0   \n",
       "3        3          -2  ...             0     -2         0       0     0   \n",
       "4       -2          -2  ...             0     -2         0       0     0   \n",
       "\n",
       "  ZCHRGPLGE ZMONITOR2 ESFRIG2 ZCOMBODVR3 WASHTEMP  \n",
       "0         0         0       1          0        3  \n",
       "1         0         0      -2          0        3  \n",
       "2         0         0      -2          0       -2  \n",
       "3         0         0      -2          0        2  \n",
       "4         0         0      -2          0        2  \n",
       "\n",
       "[5 rows x 760 columns]"
      ]
     },
     "execution_count": 20,
     "metadata": {},
     "output_type": "execute_result"
    }
   ],
   "source": [
    "# convert categorical variables to 'category' data type\n",
    "X[cat_columns] = X[cat_columns].astype('category')\n",
    "X[cat_columns].head()"
   ]
  },
  {
   "cell_type": "code",
   "execution_count": 21,
   "id": "1123bae4",
   "metadata": {
    "ExecuteTime": {
     "end_time": "2022-03-29T22:39:47.079526Z",
     "start_time": "2022-03-29T22:39:47.058604Z"
    }
   },
   "outputs": [
    {
     "data": {
      "text/plain": [
       "178"
      ]
     },
     "execution_count": 21,
     "metadata": {},
     "output_type": "execute_result"
    }
   ],
   "source": [
    "# continuous variables\n",
    "cont_columns = X.columns[~X.columns.isin(cat_columns)]\n",
    "len(cont_columns)"
   ]
  },
  {
   "cell_type": "markdown",
   "id": "04c2e166",
   "metadata": {},
   "source": [
    "We have 178 continuous columns."
   ]
  },
  {
   "cell_type": "code",
   "execution_count": 22,
   "id": "168783f5",
   "metadata": {
    "ExecuteTime": {
     "end_time": "2022-03-29T22:39:47.094488Z",
     "start_time": "2022-03-29T22:39:47.083512Z"
    }
   },
   "outputs": [
    {
     "data": {
      "text/plain": [
       "938"
      ]
     },
     "execution_count": 22,
     "metadata": {},
     "output_type": "execute_result"
    }
   ],
   "source": [
    "len(cat_columns) + len(cont_columns)"
   ]
  },
  {
   "cell_type": "code",
   "execution_count": 23,
   "id": "c3fb6d1a",
   "metadata": {
    "ExecuteTime": {
     "end_time": "2022-03-29T22:39:47.109444Z",
     "start_time": "2022-03-29T22:39:47.097475Z"
    }
   },
   "outputs": [
    {
     "data": {
      "text/plain": [
       "938"
      ]
     },
     "execution_count": 23,
     "metadata": {},
     "output_type": "execute_result"
    }
   ],
   "source": [
    "# the number of column\n",
    "X.shape[1]"
   ]
  },
  {
   "cell_type": "markdown",
   "id": "2c262a17",
   "metadata": {},
   "source": [
    "It confims that we have 938 columns. "
   ]
  },
  {
   "cell_type": "markdown",
   "id": "8cdcca09",
   "metadata": {},
   "source": [
    "## Feature Scaling"
   ]
  },
  {
   "cell_type": "code",
   "execution_count": 24,
   "id": "beb614f7",
   "metadata": {
    "ExecuteTime": {
     "end_time": "2022-03-29T22:39:49.390288Z",
     "start_time": "2022-03-29T22:39:47.111440Z"
    }
   },
   "outputs": [
    {
     "data": {
      "text/html": [
       "<div>\n",
       "<style scoped>\n",
       "    .dataframe tbody tr th:only-of-type {\n",
       "        vertical-align: middle;\n",
       "    }\n",
       "\n",
       "    .dataframe tbody tr th {\n",
       "        vertical-align: top;\n",
       "    }\n",
       "\n",
       "    .dataframe thead th {\n",
       "        text-align: right;\n",
       "    }\n",
       "</style>\n",
       "<table border=\"1\" class=\"dataframe\">\n",
       "  <thead>\n",
       "    <tr style=\"text-align: right;\">\n",
       "      <th></th>\n",
       "      <th>DIVISION</th>\n",
       "      <th>REPORTABLE_DOMAIN</th>\n",
       "      <th>NWEIGHT</th>\n",
       "      <th>HDD65</th>\n",
       "      <th>CDD65</th>\n",
       "      <th>HDD30YR</th>\n",
       "      <th>CDD30YR</th>\n",
       "      <th>YEARMADE</th>\n",
       "      <th>YEARMADERANGE</th>\n",
       "      <th>OCCUPYYRANGE</th>\n",
       "      <th>...</th>\n",
       "      <th>TOTALDOLOTH</th>\n",
       "      <th>PERIODNG</th>\n",
       "      <th>HDD50</th>\n",
       "      <th>CDD80</th>\n",
       "      <th>GND_HDD65</th>\n",
       "      <th>WSF</th>\n",
       "      <th>OA_LAT</th>\n",
       "      <th>GWT</th>\n",
       "      <th>DesignDBT99</th>\n",
       "      <th>DesignDBT1</th>\n",
       "    </tr>\n",
       "  </thead>\n",
       "  <tbody>\n",
       "    <tr>\n",
       "      <th>0</th>\n",
       "      <td>-0.480226</td>\n",
       "      <td>-0.339658</td>\n",
       "      <td>-1.399396</td>\n",
       "      <td>0.263508</td>\n",
       "      <td>-0.295982</td>\n",
       "      <td>0.367885</td>\n",
       "      <td>-0.168365</td>\n",
       "      <td>1.328639</td>\n",
       "      <td>1.402354</td>\n",
       "      <td>0.857265</td>\n",
       "      <td>...</td>\n",
       "      <td>-0.513493</td>\n",
       "      <td>-1.058155</td>\n",
       "      <td>0.316270</td>\n",
       "      <td>-0.321746</td>\n",
       "      <td>0.191755</td>\n",
       "      <td>-0.227988</td>\n",
       "      <td>0.053662</td>\n",
       "      <td>-0.365140</td>\n",
       "      <td>-0.741695</td>\n",
       "      <td>0.936577</td>\n",
       "    </tr>\n",
       "    <tr>\n",
       "      <th>1</th>\n",
       "      <td>1.618228</td>\n",
       "      <td>1.368600</td>\n",
       "      <td>-0.154039</td>\n",
       "      <td>-0.640627</td>\n",
       "      <td>-1.078043</td>\n",
       "      <td>-0.642789</td>\n",
       "      <td>-1.279775</td>\n",
       "      <td>1.086697</td>\n",
       "      <td>0.930542</td>\n",
       "      <td>0.857265</td>\n",
       "      <td>...</td>\n",
       "      <td>-0.603059</td>\n",
       "      <td>0.259142</td>\n",
       "      <td>-1.163607</td>\n",
       "      <td>-0.439884</td>\n",
       "      <td>-0.528474</td>\n",
       "      <td>1.345135</td>\n",
       "      <td>-0.837199</td>\n",
       "      <td>0.566932</td>\n",
       "      <td>1.174780</td>\n",
       "      <td>-2.556270</td>\n",
       "    </tr>\n",
       "    <tr>\n",
       "      <th>2</th>\n",
       "      <td>-1.529453</td>\n",
       "      <td>-1.681861</td>\n",
       "      <td>-0.075640</td>\n",
       "      <td>0.911616</td>\n",
       "      <td>-0.806408</td>\n",
       "      <td>0.719502</td>\n",
       "      <td>-0.603864</td>\n",
       "      <td>-0.243980</td>\n",
       "      <td>-0.484893</td>\n",
       "      <td>0.199760</td>\n",
       "      <td>...</td>\n",
       "      <td>-0.899174</td>\n",
       "      <td>2.015539</td>\n",
       "      <td>0.481181</td>\n",
       "      <td>-0.349311</td>\n",
       "      <td>0.736291</td>\n",
       "      <td>-0.227988</td>\n",
       "      <td>-0.391769</td>\n",
       "      <td>-0.831176</td>\n",
       "      <td>-0.543439</td>\n",
       "      <td>-0.394032</td>\n",
       "    </tr>\n",
       "    <tr>\n",
       "      <th>3</th>\n",
       "      <td>-0.829969</td>\n",
       "      <td>-0.949750</td>\n",
       "      <td>1.834636</td>\n",
       "      <td>0.825115</td>\n",
       "      <td>-0.658162</td>\n",
       "      <td>0.737350</td>\n",
       "      <td>-0.565438</td>\n",
       "      <td>0.562491</td>\n",
       "      <td>0.458731</td>\n",
       "      <td>-1.115249</td>\n",
       "      <td>...</td>\n",
       "      <td>-0.542739</td>\n",
       "      <td>2.015539</td>\n",
       "      <td>0.769234</td>\n",
       "      <td>-0.542270</td>\n",
       "      <td>0.459757</td>\n",
       "      <td>0.619078</td>\n",
       "      <td>-0.243292</td>\n",
       "      <td>-0.481649</td>\n",
       "      <td>-0.873865</td>\n",
       "      <td>-0.560358</td>\n",
       "    </tr>\n",
       "    <tr>\n",
       "      <th>4</th>\n",
       "      <td>-1.529453</td>\n",
       "      <td>-1.681861</td>\n",
       "      <td>-0.703744</td>\n",
       "      <td>0.544311</td>\n",
       "      <td>-0.631531</td>\n",
       "      <td>0.528522</td>\n",
       "      <td>-0.635394</td>\n",
       "      <td>0.481844</td>\n",
       "      <td>0.458731</td>\n",
       "      <td>-1.115249</td>\n",
       "      <td>...</td>\n",
       "      <td>-0.385542</td>\n",
       "      <td>0.259142</td>\n",
       "      <td>0.412768</td>\n",
       "      <td>-0.542270</td>\n",
       "      <td>0.647862</td>\n",
       "      <td>1.345135</td>\n",
       "      <td>-0.243292</td>\n",
       "      <td>-1.064194</td>\n",
       "      <td>-0.477353</td>\n",
       "      <td>-0.061379</td>\n",
       "    </tr>\n",
       "  </tbody>\n",
       "</table>\n",
       "<p>5 rows × 178 columns</p>\n",
       "</div>"
      ],
      "text/plain": [
       "   DIVISION  REPORTABLE_DOMAIN   NWEIGHT     HDD65     CDD65   HDD30YR  \\\n",
       "0 -0.480226          -0.339658 -1.399396  0.263508 -0.295982  0.367885   \n",
       "1  1.618228           1.368600 -0.154039 -0.640627 -1.078043 -0.642789   \n",
       "2 -1.529453          -1.681861 -0.075640  0.911616 -0.806408  0.719502   \n",
       "3 -0.829969          -0.949750  1.834636  0.825115 -0.658162  0.737350   \n",
       "4 -1.529453          -1.681861 -0.703744  0.544311 -0.631531  0.528522   \n",
       "\n",
       "    CDD30YR  YEARMADE  YEARMADERANGE  OCCUPYYRANGE  ...  TOTALDOLOTH  \\\n",
       "0 -0.168365  1.328639       1.402354      0.857265  ...    -0.513493   \n",
       "1 -1.279775  1.086697       0.930542      0.857265  ...    -0.603059   \n",
       "2 -0.603864 -0.243980      -0.484893      0.199760  ...    -0.899174   \n",
       "3 -0.565438  0.562491       0.458731     -1.115249  ...    -0.542739   \n",
       "4 -0.635394  0.481844       0.458731     -1.115249  ...    -0.385542   \n",
       "\n",
       "   PERIODNG     HDD50     CDD80  GND_HDD65       WSF    OA_LAT       GWT  \\\n",
       "0 -1.058155  0.316270 -0.321746   0.191755 -0.227988  0.053662 -0.365140   \n",
       "1  0.259142 -1.163607 -0.439884  -0.528474  1.345135 -0.837199  0.566932   \n",
       "2  2.015539  0.481181 -0.349311   0.736291 -0.227988 -0.391769 -0.831176   \n",
       "3  2.015539  0.769234 -0.542270   0.459757  0.619078 -0.243292 -0.481649   \n",
       "4  0.259142  0.412768 -0.542270   0.647862  1.345135 -0.243292 -1.064194   \n",
       "\n",
       "   DesignDBT99  DesignDBT1  \n",
       "0    -0.741695    0.936577  \n",
       "1     1.174780   -2.556270  \n",
       "2    -0.543439   -0.394032  \n",
       "3    -0.873865   -0.560358  \n",
       "4    -0.477353   -0.061379  \n",
       "\n",
       "[5 rows x 178 columns]"
      ]
     },
     "execution_count": 24,
     "metadata": {},
     "output_type": "execute_result"
    }
   ],
   "source": [
    "from sklearn.preprocessing import StandardScaler\n",
    "# scale continuous columns\n",
    "scaler = StandardScaler()\n",
    "X[cont_columns] = scaler.fit_transform(X[cont_columns])\n",
    "# first 5 rows of scaled continuous columns\n",
    "X[cont_columns].head()"
   ]
  },
  {
   "cell_type": "code",
   "execution_count": 25,
   "id": "d1fd67dc",
   "metadata": {
    "ExecuteTime": {
     "end_time": "2022-03-29T22:39:49.513989Z",
     "start_time": "2022-03-29T22:39:49.392283Z"
    }
   },
   "outputs": [
    {
     "data": {
      "text/html": [
       "<div>\n",
       "<style scoped>\n",
       "    .dataframe tbody tr th:only-of-type {\n",
       "        vertical-align: middle;\n",
       "    }\n",
       "\n",
       "    .dataframe tbody tr th {\n",
       "        vertical-align: top;\n",
       "    }\n",
       "\n",
       "    .dataframe thead th {\n",
       "        text-align: right;\n",
       "    }\n",
       "</style>\n",
       "<table border=\"1\" class=\"dataframe\">\n",
       "  <thead>\n",
       "    <tr style=\"text-align: right;\">\n",
       "      <th></th>\n",
       "      <th>METROMICRO</th>\n",
       "      <th>UR</th>\n",
       "      <th>NOCRCASH</th>\n",
       "      <th>NKRGALNC</th>\n",
       "      <th>IECC_Climate_Pub</th>\n",
       "      <th>ZTEMPHOME</th>\n",
       "      <th>BASEUSE</th>\n",
       "      <th>HELPCFLY</th>\n",
       "      <th>SIZRFRI2</th>\n",
       "      <th>AUTOCOOLDAY</th>\n",
       "      <th>...</th>\n",
       "      <th>ZAGEHHMEMCAT4</th>\n",
       "      <th>HSFUEL</th>\n",
       "      <th>ZGARGHEAT</th>\n",
       "      <th>USEKERO</th>\n",
       "      <th>ZDVD1</th>\n",
       "      <th>ZCHRGPLGE</th>\n",
       "      <th>ZMONITOR2</th>\n",
       "      <th>ESFRIG2</th>\n",
       "      <th>ZCOMBODVR3</th>\n",
       "      <th>WASHTEMP</th>\n",
       "    </tr>\n",
       "  </thead>\n",
       "  <tbody>\n",
       "    <tr>\n",
       "      <th>0</th>\n",
       "      <td>0</td>\n",
       "      <td>1</td>\n",
       "      <td>0</td>\n",
       "      <td>0</td>\n",
       "      <td>5</td>\n",
       "      <td>0</td>\n",
       "      <td>1</td>\n",
       "      <td>-2</td>\n",
       "      <td>4</td>\n",
       "      <td>1</td>\n",
       "      <td>...</td>\n",
       "      <td>0</td>\n",
       "      <td>-2</td>\n",
       "      <td>0</td>\n",
       "      <td>0</td>\n",
       "      <td>0</td>\n",
       "      <td>0</td>\n",
       "      <td>0</td>\n",
       "      <td>1</td>\n",
       "      <td>0</td>\n",
       "      <td>3</td>\n",
       "    </tr>\n",
       "    <tr>\n",
       "      <th>1</th>\n",
       "      <td>0</td>\n",
       "      <td>1</td>\n",
       "      <td>0</td>\n",
       "      <td>0</td>\n",
       "      <td>4</td>\n",
       "      <td>0</td>\n",
       "      <td>-2</td>\n",
       "      <td>-2</td>\n",
       "      <td>-2</td>\n",
       "      <td>-2</td>\n",
       "      <td>...</td>\n",
       "      <td>0</td>\n",
       "      <td>-2</td>\n",
       "      <td>0</td>\n",
       "      <td>0</td>\n",
       "      <td>0</td>\n",
       "      <td>0</td>\n",
       "      <td>0</td>\n",
       "      <td>-2</td>\n",
       "      <td>0</td>\n",
       "      <td>3</td>\n",
       "    </tr>\n",
       "    <tr>\n",
       "      <th>2</th>\n",
       "      <td>0</td>\n",
       "      <td>1</td>\n",
       "      <td>0</td>\n",
       "      <td>0</td>\n",
       "      <td>7</td>\n",
       "      <td>0</td>\n",
       "      <td>-2</td>\n",
       "      <td>-2</td>\n",
       "      <td>-2</td>\n",
       "      <td>-2</td>\n",
       "      <td>...</td>\n",
       "      <td>0</td>\n",
       "      <td>-2</td>\n",
       "      <td>0</td>\n",
       "      <td>0</td>\n",
       "      <td>0</td>\n",
       "      <td>0</td>\n",
       "      <td>0</td>\n",
       "      <td>-2</td>\n",
       "      <td>0</td>\n",
       "      <td>-2</td>\n",
       "    </tr>\n",
       "    <tr>\n",
       "      <th>3</th>\n",
       "      <td>0</td>\n",
       "      <td>1</td>\n",
       "      <td>0</td>\n",
       "      <td>0</td>\n",
       "      <td>7</td>\n",
       "      <td>0</td>\n",
       "      <td>-2</td>\n",
       "      <td>-2</td>\n",
       "      <td>3</td>\n",
       "      <td>-2</td>\n",
       "      <td>...</td>\n",
       "      <td>0</td>\n",
       "      <td>-2</td>\n",
       "      <td>0</td>\n",
       "      <td>0</td>\n",
       "      <td>0</td>\n",
       "      <td>0</td>\n",
       "      <td>0</td>\n",
       "      <td>-2</td>\n",
       "      <td>0</td>\n",
       "      <td>2</td>\n",
       "    </tr>\n",
       "    <tr>\n",
       "      <th>4</th>\n",
       "      <td>0</td>\n",
       "      <td>1</td>\n",
       "      <td>0</td>\n",
       "      <td>0</td>\n",
       "      <td>7</td>\n",
       "      <td>0</td>\n",
       "      <td>1</td>\n",
       "      <td>-2</td>\n",
       "      <td>-2</td>\n",
       "      <td>-2</td>\n",
       "      <td>...</td>\n",
       "      <td>0</td>\n",
       "      <td>-2</td>\n",
       "      <td>0</td>\n",
       "      <td>0</td>\n",
       "      <td>0</td>\n",
       "      <td>0</td>\n",
       "      <td>0</td>\n",
       "      <td>-2</td>\n",
       "      <td>0</td>\n",
       "      <td>2</td>\n",
       "    </tr>\n",
       "  </tbody>\n",
       "</table>\n",
       "<p>5 rows × 760 columns</p>\n",
       "</div>"
      ],
      "text/plain": [
       "  METROMICRO UR NOCRCASH NKRGALNC IECC_Climate_Pub ZTEMPHOME BASEUSE HELPCFLY  \\\n",
       "0          0  1        0        0                5         0       1       -2   \n",
       "1          0  1        0        0                4         0      -2       -2   \n",
       "2          0  1        0        0                7         0      -2       -2   \n",
       "3          0  1        0        0                7         0      -2       -2   \n",
       "4          0  1        0        0                7         0       1       -2   \n",
       "\n",
       "  SIZRFRI2 AUTOCOOLDAY  ... ZAGEHHMEMCAT4 HSFUEL ZGARGHEAT USEKERO ZDVD1  \\\n",
       "0        4           1  ...             0     -2         0       0     0   \n",
       "1       -2          -2  ...             0     -2         0       0     0   \n",
       "2       -2          -2  ...             0     -2         0       0     0   \n",
       "3        3          -2  ...             0     -2         0       0     0   \n",
       "4       -2          -2  ...             0     -2         0       0     0   \n",
       "\n",
       "  ZCHRGPLGE ZMONITOR2 ESFRIG2 ZCOMBODVR3 WASHTEMP  \n",
       "0         0         0       1          0        3  \n",
       "1         0         0      -2          0        3  \n",
       "2         0         0      -2          0       -2  \n",
       "3         0         0      -2          0        2  \n",
       "4         0         0      -2          0        2  \n",
       "\n",
       "[5 rows x 760 columns]"
      ]
     },
     "execution_count": 25,
     "metadata": {},
     "output_type": "execute_result"
    }
   ],
   "source": [
    "# first 5 rows of categorical columns\n",
    "X[cat_columns].head()"
   ]
  },
  {
   "cell_type": "markdown",
   "id": "ec84b8f3",
   "metadata": {
    "ExecuteTime": {
     "end_time": "2022-03-28T16:50:22.641856Z",
     "start_time": "2022-03-28T16:50:22.636869Z"
    }
   },
   "source": [
    "# Model Building"
   ]
  },
  {
   "cell_type": "markdown",
   "id": "d4d438c1",
   "metadata": {},
   "source": [
    "We will try 4 models here - **Linear Regression, KNN, Decision Tree Regressor, Random Forest Regressor** to predict the energy consumption. \n",
    "To compare the performance of the models, we will use cross-validated **RMSE score** as an evaluation metric. "
   ]
  },
  {
   "cell_type": "markdown",
   "id": "2326cbe5",
   "metadata": {},
   "source": [
    "## with all features "
   ]
  },
  {
   "cell_type": "code",
   "execution_count": 26,
   "id": "ca85f247",
   "metadata": {
    "ExecuteTime": {
     "end_time": "2022-03-29T22:39:49.670572Z",
     "start_time": "2022-03-29T22:39:49.515951Z"
    }
   },
   "outputs": [],
   "source": [
    "from sklearn.model_selection import cross_val_score, cross_validate\n",
    "from sklearn.linear_model import LinearRegression\n",
    "from sklearn.neighbors import KNeighborsRegressor\n",
    "from sklearn.ensemble import RandomForestRegressor\n",
    "from sklearn.tree import DecisionTreeRegressor\n",
    "from sklearn.linear_model import Lasso"
   ]
  },
  {
   "cell_type": "code",
   "execution_count": 27,
   "id": "06ab12d3",
   "metadata": {
    "ExecuteTime": {
     "end_time": "2022-03-29T22:39:49.686497Z",
     "start_time": "2022-03-29T22:39:49.672534Z"
    }
   },
   "outputs": [],
   "source": [
    "# models\n",
    "models = {'Linear Regression': LinearRegression(n_jobs=-1),\n",
    "          'KNN': KNeighborsRegressor(n_jobs=-1),\n",
    "          'Decision Tree': DecisionTreeRegressor(max_depth=10, random_state=1),\n",
    "          'Random Forest Regressor': RandomForestRegressor(max_depth=10, n_jobs=-1, random_state=1)\n",
    "          }"
   ]
  },
  {
   "cell_type": "code",
   "execution_count": 28,
   "id": "87f1aa7f",
   "metadata": {
    "ExecuteTime": {
     "end_time": "2022-03-29T22:39:49.702453Z",
     "start_time": "2022-03-29T22:39:49.689485Z"
    }
   },
   "outputs": [],
   "source": [
    "# evaluate model performance\n",
    "\n",
    "def rmse_score(X):\n",
    "    '''\n",
    "    INPUT: X, selected feature dataframe\n",
    "    OUTPUT: df, result dataframe\n",
    "    '''\n",
    "    score = []\n",
    "    model_name = []\n",
    "    n_feature = []\n",
    "\n",
    "    for i, j in models.items():\n",
    "        rmse = abs(cross_val_score(j, X, y, cv=5,\n",
    "                   scoring='neg_root_mean_squared_error').mean().round(2))\n",
    "        score.append(rmse)\n",
    "        model_name.append(i)\n",
    "        n_feature.append(X.shape[1])\n",
    "        \n",
    "    df = pd.DataFrame(list(zip(model_name, score, n_feature)), columns=[\n",
    "                      'Model Name', 'RMSE', 'Number of Feature'])\n",
    "\n",
    "    return df"
   ]
  },
  {
   "cell_type": "code",
   "execution_count": 29,
   "id": "c23b6d02",
   "metadata": {
    "ExecuteTime": {
     "end_time": "2022-03-29T22:41:42.620699Z",
     "start_time": "2022-03-29T22:39:49.704445Z"
    }
   },
   "outputs": [
    {
     "data": {
      "text/html": [
       "<div>\n",
       "<style scoped>\n",
       "    .dataframe tbody tr th:only-of-type {\n",
       "        vertical-align: middle;\n",
       "    }\n",
       "\n",
       "    .dataframe tbody tr th {\n",
       "        vertical-align: top;\n",
       "    }\n",
       "\n",
       "    .dataframe thead th {\n",
       "        text-align: right;\n",
       "    }\n",
       "</style>\n",
       "<table border=\"1\" class=\"dataframe\">\n",
       "  <thead>\n",
       "    <tr style=\"text-align: right;\">\n",
       "      <th></th>\n",
       "      <th>Model Name</th>\n",
       "      <th>RMSE</th>\n",
       "      <th>Number of Feature</th>\n",
       "    </tr>\n",
       "  </thead>\n",
       "  <tbody>\n",
       "    <tr>\n",
       "      <th>0</th>\n",
       "      <td>Linear Regression</td>\n",
       "      <td>0.03</td>\n",
       "      <td>938</td>\n",
       "    </tr>\n",
       "    <tr>\n",
       "      <th>1</th>\n",
       "      <td>KNN</td>\n",
       "      <td>4039.45</td>\n",
       "      <td>938</td>\n",
       "    </tr>\n",
       "    <tr>\n",
       "      <th>2</th>\n",
       "      <td>Decision Tree</td>\n",
       "      <td>19.06</td>\n",
       "      <td>938</td>\n",
       "    </tr>\n",
       "    <tr>\n",
       "      <th>3</th>\n",
       "      <td>Random Forest Regressor</td>\n",
       "      <td>10.00</td>\n",
       "      <td>938</td>\n",
       "    </tr>\n",
       "  </tbody>\n",
       "</table>\n",
       "</div>"
      ],
      "text/plain": [
       "                Model Name     RMSE  Number of Feature\n",
       "0        Linear Regression     0.03                938\n",
       "1                      KNN  4039.45                938\n",
       "2            Decision Tree    19.06                938\n",
       "3  Random Forest Regressor    10.00                938"
      ]
     },
     "execution_count": 29,
     "metadata": {},
     "output_type": "execute_result"
    }
   ],
   "source": [
    "# call the function on the all features\n",
    "output_x = rmse_score(X)\n",
    "output_x"
   ]
  },
  {
   "cell_type": "markdown",
   "id": "30b6c404",
   "metadata": {},
   "source": [
    "Linear Regression has lowest RMSE. We have over 900 features, it is easily overfitting and we need also take multicollinearity into consideration. We now check linear regression with L1 penalty (aka the Lasso). "
   ]
  },
  {
   "cell_type": "code",
   "execution_count": 30,
   "id": "342c5ef6",
   "metadata": {
    "ExecuteTime": {
     "end_time": "2022-03-29T22:42:17.587156Z",
     "start_time": "2022-03-29T22:41:42.624689Z"
    }
   },
   "outputs": [
    {
     "data": {
      "text/html": [
       "<div>\n",
       "<style scoped>\n",
       "    .dataframe tbody tr th:only-of-type {\n",
       "        vertical-align: middle;\n",
       "    }\n",
       "\n",
       "    .dataframe tbody tr th {\n",
       "        vertical-align: top;\n",
       "    }\n",
       "\n",
       "    .dataframe thead th {\n",
       "        text-align: right;\n",
       "    }\n",
       "</style>\n",
       "<table border=\"1\" class=\"dataframe\">\n",
       "  <thead>\n",
       "    <tr style=\"text-align: right;\">\n",
       "      <th></th>\n",
       "      <th>Model Name</th>\n",
       "      <th>RMSE</th>\n",
       "      <th>Number of Feature</th>\n",
       "    </tr>\n",
       "  </thead>\n",
       "  <tbody>\n",
       "    <tr>\n",
       "      <th>0</th>\n",
       "      <td>Linear Regression</td>\n",
       "      <td>0.03</td>\n",
       "      <td>938</td>\n",
       "    </tr>\n",
       "    <tr>\n",
       "      <th>1</th>\n",
       "      <td>KNN</td>\n",
       "      <td>4039.45</td>\n",
       "      <td>938</td>\n",
       "    </tr>\n",
       "    <tr>\n",
       "      <th>2</th>\n",
       "      <td>Decision Tree</td>\n",
       "      <td>19.06</td>\n",
       "      <td>938</td>\n",
       "    </tr>\n",
       "    <tr>\n",
       "      <th>3</th>\n",
       "      <td>Random Forest Regressor</td>\n",
       "      <td>10.00</td>\n",
       "      <td>938</td>\n",
       "    </tr>\n",
       "    <tr>\n",
       "      <th>4</th>\n",
       "      <td>Lasso</td>\n",
       "      <td>6.30</td>\n",
       "      <td>938</td>\n",
       "    </tr>\n",
       "  </tbody>\n",
       "</table>\n",
       "</div>"
      ],
      "text/plain": [
       "                Model Name     RMSE  Number of Feature\n",
       "0        Linear Regression     0.03                938\n",
       "1                      KNN  4039.45                938\n",
       "2            Decision Tree    19.06                938\n",
       "3  Random Forest Regressor    10.00                938\n",
       "4                    Lasso     6.30                938"
      ]
     },
     "execution_count": 30,
     "metadata": {},
     "output_type": "execute_result"
    }
   ],
   "source": [
    "# lasso RMSE\n",
    "rmse_lasso = -cross_val_score(Lasso(),\n",
    "                              X, y, cv=5, scoring='neg_root_mean_squared_error').mean().round(2)\n",
    "\n",
    "#append lasso result to output dataframe\n",
    "output_x = output_x.append({'Model Name': 'Lasso', \n",
    "                            'RMSE': rmse_lasso,\n",
    "                            'Number of Feature': X.shape[1]}, ignore_index = True)\n",
    "output_x"
   ]
  },
  {
   "cell_type": "markdown",
   "id": "02d3c869",
   "metadata": {},
   "source": [
    "RMSE of lasso on all features is greater than that of linear regression model. **It implies that linear regression model has multicollinearity problem on the full feature set**. "
   ]
  },
  {
   "cell_type": "markdown",
   "id": "4509f27a",
   "metadata": {},
   "source": [
    "# Feature Selection "
   ]
  },
  {
   "cell_type": "markdown",
   "id": "0b35279f",
   "metadata": {
    "ExecuteTime": {
     "end_time": "2022-03-25T22:58:08.929792Z",
     "start_time": "2022-03-25T22:58:08.914834Z"
    }
   },
   "source": [
    "## By Variation\n",
    "Only apply the variance filter on continuous variables. Before applying variance filter we need normalize the continuous variables. "
   ]
  },
  {
   "cell_type": "code",
   "execution_count": 31,
   "id": "52267a44",
   "metadata": {
    "ExecuteTime": {
     "end_time": "2022-03-29T22:42:17.759696Z",
     "start_time": "2022-03-29T22:42:17.591146Z"
    }
   },
   "outputs": [
    {
     "data": {
      "text/html": [
       "<div>\n",
       "<style scoped>\n",
       "    .dataframe tbody tr th:only-of-type {\n",
       "        vertical-align: middle;\n",
       "    }\n",
       "\n",
       "    .dataframe tbody tr th {\n",
       "        vertical-align: top;\n",
       "    }\n",
       "\n",
       "    .dataframe thead th {\n",
       "        text-align: right;\n",
       "    }\n",
       "</style>\n",
       "<table border=\"1\" class=\"dataframe\">\n",
       "  <thead>\n",
       "    <tr style=\"text-align: right;\">\n",
       "      <th></th>\n",
       "      <th>DIVISION</th>\n",
       "      <th>REPORTABLE_DOMAIN</th>\n",
       "      <th>NWEIGHT</th>\n",
       "      <th>HDD65</th>\n",
       "      <th>CDD65</th>\n",
       "      <th>HDD30YR</th>\n",
       "      <th>CDD30YR</th>\n",
       "      <th>YEARMADE</th>\n",
       "      <th>YEARMADERANGE</th>\n",
       "      <th>OCCUPYYRANGE</th>\n",
       "      <th>...</th>\n",
       "      <th>TOTALDOLOTH</th>\n",
       "      <th>PERIODNG</th>\n",
       "      <th>HDD50</th>\n",
       "      <th>CDD80</th>\n",
       "      <th>GND_HDD65</th>\n",
       "      <th>WSF</th>\n",
       "      <th>OA_LAT</th>\n",
       "      <th>GWT</th>\n",
       "      <th>DesignDBT99</th>\n",
       "      <th>DesignDBT1</th>\n",
       "    </tr>\n",
       "  </thead>\n",
       "  <tbody>\n",
       "    <tr>\n",
       "      <th>0</th>\n",
       "      <td>0.000039</td>\n",
       "      <td>0.000118</td>\n",
       "      <td>0.026696</td>\n",
       "      <td>0.046716</td>\n",
       "      <td>0.010640</td>\n",
       "      <td>0.048794</td>\n",
       "      <td>0.012521</td>\n",
       "      <td>0.019742</td>\n",
       "      <td>0.000069</td>\n",
       "      <td>0.000079</td>\n",
       "      <td>...</td>\n",
       "      <td>0.005418</td>\n",
       "      <td>-0.000020</td>\n",
       "      <td>0.020856</td>\n",
       "      <td>0.000552</td>\n",
       "      <td>0.041869</td>\n",
       "      <td>0.000005</td>\n",
       "      <td>0.000059</td>\n",
       "      <td>0.000552</td>\n",
       "      <td>0.000089</td>\n",
       "      <td>0.000946</td>\n",
       "    </tr>\n",
       "    <tr>\n",
       "      <th>1</th>\n",
       "      <td>0.000063</td>\n",
       "      <td>0.000164</td>\n",
       "      <td>0.054272</td>\n",
       "      <td>0.016801</td>\n",
       "      <td>0.001256</td>\n",
       "      <td>0.016965</td>\n",
       "      <td>0.000903</td>\n",
       "      <td>0.012610</td>\n",
       "      <td>0.000038</td>\n",
       "      <td>0.000050</td>\n",
       "      <td>...</td>\n",
       "      <td>0.003162</td>\n",
       "      <td>0.000006</td>\n",
       "      <td>0.000391</td>\n",
       "      <td>0.000164</td>\n",
       "      <td>0.015103</td>\n",
       "      <td>0.000004</td>\n",
       "      <td>0.000000</td>\n",
       "      <td>0.000404</td>\n",
       "      <td>0.000240</td>\n",
       "      <td>0.000473</td>\n",
       "    </tr>\n",
       "    <tr>\n",
       "      <th>2</th>\n",
       "      <td>0.000010</td>\n",
       "      <td>0.000010</td>\n",
       "      <td>0.090711</td>\n",
       "      <td>0.063033</td>\n",
       "      <td>0.005107</td>\n",
       "      <td>0.058058</td>\n",
       "      <td>0.008384</td>\n",
       "      <td>0.019872</td>\n",
       "      <td>0.000030</td>\n",
       "      <td>0.000071</td>\n",
       "      <td>...</td>\n",
       "      <td>0.003428</td>\n",
       "      <td>0.000051</td>\n",
       "      <td>0.023725</td>\n",
       "      <td>0.000496</td>\n",
       "      <td>0.057178</td>\n",
       "      <td>0.000005</td>\n",
       "      <td>0.000030</td>\n",
       "      <td>0.000526</td>\n",
       "      <td>0.000121</td>\n",
       "      <td>0.000890</td>\n",
       "    </tr>\n",
       "    <tr>\n",
       "      <th>3</th>\n",
       "      <td>0.000026</td>\n",
       "      <td>0.000060</td>\n",
       "      <td>0.155303</td>\n",
       "      <td>0.052051</td>\n",
       "      <td>0.005797</td>\n",
       "      <td>0.049868</td>\n",
       "      <td>0.007488</td>\n",
       "      <td>0.017123</td>\n",
       "      <td>0.000043</td>\n",
       "      <td>0.000043</td>\n",
       "      <td>...</td>\n",
       "      <td>0.004606</td>\n",
       "      <td>0.000043</td>\n",
       "      <td>0.023688</td>\n",
       "      <td>0.000000</td>\n",
       "      <td>0.042622</td>\n",
       "      <td>0.000005</td>\n",
       "      <td>0.000035</td>\n",
       "      <td>0.000474</td>\n",
       "      <td>0.000060</td>\n",
       "      <td>0.000750</td>\n",
       "    </tr>\n",
       "    <tr>\n",
       "      <th>4</th>\n",
       "      <td>0.000010</td>\n",
       "      <td>0.000010</td>\n",
       "      <td>0.061616</td>\n",
       "      <td>0.055335</td>\n",
       "      <td>0.007210</td>\n",
       "      <td>0.054565</td>\n",
       "      <td>0.008185</td>\n",
       "      <td>0.020365</td>\n",
       "      <td>0.000051</td>\n",
       "      <td>0.000051</td>\n",
       "      <td>...</td>\n",
       "      <td>0.006367</td>\n",
       "      <td>0.000010</td>\n",
       "      <td>0.023118</td>\n",
       "      <td>0.000000</td>\n",
       "      <td>0.055725</td>\n",
       "      <td>0.000006</td>\n",
       "      <td>0.000041</td>\n",
       "      <td>0.000514</td>\n",
       "      <td>0.000134</td>\n",
       "      <td>0.000924</td>\n",
       "    </tr>\n",
       "  </tbody>\n",
       "</table>\n",
       "<p>5 rows × 178 columns</p>\n",
       "</div>"
      ],
      "text/plain": [
       "   DIVISION  REPORTABLE_DOMAIN   NWEIGHT     HDD65     CDD65   HDD30YR  \\\n",
       "0  0.000039           0.000118  0.026696  0.046716  0.010640  0.048794   \n",
       "1  0.000063           0.000164  0.054272  0.016801  0.001256  0.016965   \n",
       "2  0.000010           0.000010  0.090711  0.063033  0.005107  0.058058   \n",
       "3  0.000026           0.000060  0.155303  0.052051  0.005797  0.049868   \n",
       "4  0.000010           0.000010  0.061616  0.055335  0.007210  0.054565   \n",
       "\n",
       "    CDD30YR  YEARMADE  YEARMADERANGE  OCCUPYYRANGE  ...  TOTALDOLOTH  \\\n",
       "0  0.012521  0.019742       0.000069      0.000079  ...     0.005418   \n",
       "1  0.000903  0.012610       0.000038      0.000050  ...     0.003162   \n",
       "2  0.008384  0.019872       0.000030      0.000071  ...     0.003428   \n",
       "3  0.007488  0.017123       0.000043      0.000043  ...     0.004606   \n",
       "4  0.008185  0.020365       0.000051      0.000051  ...     0.006367   \n",
       "\n",
       "   PERIODNG     HDD50     CDD80  GND_HDD65       WSF    OA_LAT       GWT  \\\n",
       "0 -0.000020  0.020856  0.000552   0.041869  0.000005  0.000059  0.000552   \n",
       "1  0.000006  0.000391  0.000164   0.015103  0.000004  0.000000  0.000404   \n",
       "2  0.000051  0.023725  0.000496   0.057178  0.000005  0.000030  0.000526   \n",
       "3  0.000043  0.023688  0.000000   0.042622  0.000005  0.000035  0.000474   \n",
       "4  0.000010  0.023118  0.000000   0.055725  0.000006  0.000041  0.000514   \n",
       "\n",
       "   DesignDBT99  DesignDBT1  \n",
       "0     0.000089    0.000946  \n",
       "1     0.000240    0.000473  \n",
       "2     0.000121    0.000890  \n",
       "3     0.000060    0.000750  \n",
       "4     0.000134    0.000924  \n",
       "\n",
       "[5 rows x 178 columns]"
      ]
     },
     "execution_count": 31,
     "metadata": {},
     "output_type": "execute_result"
    }
   ],
   "source": [
    "from sklearn.preprocessing import normalize\n",
    "normalize = pd.DataFrame(\n",
    "    normalize(data[cont_columns]), columns=data[cont_columns].columns)\n",
    "normalize.head(5)"
   ]
  },
  {
   "cell_type": "code",
   "execution_count": 32,
   "id": "fec6d63f",
   "metadata": {
    "ExecuteTime": {
     "end_time": "2022-03-29T22:42:17.791609Z",
     "start_time": "2022-03-29T22:42:17.765680Z"
    }
   },
   "outputs": [
    {
     "data": {
      "text/plain": [
       "12"
      ]
     },
     "execution_count": 32,
     "metadata": {},
     "output_type": "execute_result"
    }
   ],
   "source": [
    "# High variance continuous columns\n",
    "s_var = normalize.var()\n",
    "cont_columns_var= s_var[s_var>=0.005].index.tolist() # setting the threshold as 0.5%\n",
    "len(cont_columns_var)"
   ]
  },
  {
   "cell_type": "code",
   "execution_count": 33,
   "id": "2ff549ab",
   "metadata": {
    "ExecuteTime": {
     "end_time": "2022-03-29T22:42:17.837488Z",
     "start_time": "2022-03-29T22:42:17.796603Z"
    }
   },
   "outputs": [
    {
     "data": {
      "text/plain": [
       "772"
      ]
     },
     "execution_count": 33,
     "metadata": {},
     "output_type": "execute_result"
    }
   ],
   "source": [
    "# drop variables that have a variation of below 0.005\n",
    "X_variance = X.drop(s_var[(s_var.values < 0.005)].index.tolist(), axis=1)\n",
    "X_variance.shape[1]"
   ]
  },
  {
   "cell_type": "markdown",
   "id": "6611e5b0",
   "metadata": {},
   "source": [
    "- Now we have 772 features left. "
   ]
  },
  {
   "cell_type": "code",
   "execution_count": 34,
   "id": "c5e87d73",
   "metadata": {
    "ExecuteTime": {
     "end_time": "2022-03-29T22:43:46.424072Z",
     "start_time": "2022-03-29T22:42:17.842473Z"
    }
   },
   "outputs": [
    {
     "data": {
      "text/html": [
       "<div>\n",
       "<style scoped>\n",
       "    .dataframe tbody tr th:only-of-type {\n",
       "        vertical-align: middle;\n",
       "    }\n",
       "\n",
       "    .dataframe tbody tr th {\n",
       "        vertical-align: top;\n",
       "    }\n",
       "\n",
       "    .dataframe thead th {\n",
       "        text-align: right;\n",
       "    }\n",
       "</style>\n",
       "<table border=\"1\" class=\"dataframe\">\n",
       "  <thead>\n",
       "    <tr style=\"text-align: right;\">\n",
       "      <th></th>\n",
       "      <th>Model Name</th>\n",
       "      <th>RMSE</th>\n",
       "      <th>Number of Feature</th>\n",
       "    </tr>\n",
       "  </thead>\n",
       "  <tbody>\n",
       "    <tr>\n",
       "      <th>0</th>\n",
       "      <td>Linear Regression</td>\n",
       "      <td>0.09</td>\n",
       "      <td>772</td>\n",
       "    </tr>\n",
       "    <tr>\n",
       "      <th>1</th>\n",
       "      <td>KNN</td>\n",
       "      <td>4907.02</td>\n",
       "      <td>772</td>\n",
       "    </tr>\n",
       "    <tr>\n",
       "      <th>2</th>\n",
       "      <td>Decision Tree</td>\n",
       "      <td>18.49</td>\n",
       "      <td>772</td>\n",
       "    </tr>\n",
       "    <tr>\n",
       "      <th>3</th>\n",
       "      <td>Random Forest Regressor</td>\n",
       "      <td>9.27</td>\n",
       "      <td>772</td>\n",
       "    </tr>\n",
       "  </tbody>\n",
       "</table>\n",
       "</div>"
      ],
      "text/plain": [
       "                Model Name     RMSE  Number of Feature\n",
       "0        Linear Regression     0.09                772\n",
       "1                      KNN  4907.02                772\n",
       "2            Decision Tree    18.49                772\n",
       "3  Random Forest Regressor     9.27                772"
      ]
     },
     "execution_count": 34,
     "metadata": {},
     "output_type": "execute_result"
    }
   ],
   "source": [
    "# check RMSE score after dropping low variance variables\n",
    "output_x_variance = rmse_score(X_variance)\n",
    "output_x_variance"
   ]
  },
  {
   "cell_type": "code",
   "execution_count": 35,
   "id": "536758c5",
   "metadata": {
    "ExecuteTime": {
     "end_time": "2022-03-29T22:43:46.454990Z",
     "start_time": "2022-03-29T22:43:46.427065Z"
    }
   },
   "outputs": [
    {
     "data": {
      "text/html": [
       "<div>\n",
       "<style scoped>\n",
       "    .dataframe tbody tr th:only-of-type {\n",
       "        vertical-align: middle;\n",
       "    }\n",
       "\n",
       "    .dataframe tbody tr th {\n",
       "        vertical-align: top;\n",
       "    }\n",
       "\n",
       "    .dataframe thead th {\n",
       "        text-align: right;\n",
       "    }\n",
       "</style>\n",
       "<table border=\"1\" class=\"dataframe\">\n",
       "  <thead>\n",
       "    <tr style=\"text-align: right;\">\n",
       "      <th></th>\n",
       "      <th>Model Name</th>\n",
       "      <th>RMSE</th>\n",
       "      <th>Number of Feature</th>\n",
       "    </tr>\n",
       "  </thead>\n",
       "  <tbody>\n",
       "    <tr>\n",
       "      <th>0</th>\n",
       "      <td>Linear Regression</td>\n",
       "      <td>0.03</td>\n",
       "      <td>938</td>\n",
       "    </tr>\n",
       "    <tr>\n",
       "      <th>1</th>\n",
       "      <td>KNN</td>\n",
       "      <td>4039.45</td>\n",
       "      <td>938</td>\n",
       "    </tr>\n",
       "    <tr>\n",
       "      <th>2</th>\n",
       "      <td>Decision Tree</td>\n",
       "      <td>19.06</td>\n",
       "      <td>938</td>\n",
       "    </tr>\n",
       "    <tr>\n",
       "      <th>3</th>\n",
       "      <td>Random Forest Regressor</td>\n",
       "      <td>10.00</td>\n",
       "      <td>938</td>\n",
       "    </tr>\n",
       "    <tr>\n",
       "      <th>4</th>\n",
       "      <td>Lasso</td>\n",
       "      <td>6.30</td>\n",
       "      <td>938</td>\n",
       "    </tr>\n",
       "    <tr>\n",
       "      <th>5</th>\n",
       "      <td>Linear Regression</td>\n",
       "      <td>0.09</td>\n",
       "      <td>772</td>\n",
       "    </tr>\n",
       "    <tr>\n",
       "      <th>6</th>\n",
       "      <td>KNN</td>\n",
       "      <td>4907.02</td>\n",
       "      <td>772</td>\n",
       "    </tr>\n",
       "    <tr>\n",
       "      <th>7</th>\n",
       "      <td>Decision Tree</td>\n",
       "      <td>18.49</td>\n",
       "      <td>772</td>\n",
       "    </tr>\n",
       "    <tr>\n",
       "      <th>8</th>\n",
       "      <td>Random Forest Regressor</td>\n",
       "      <td>9.27</td>\n",
       "      <td>772</td>\n",
       "    </tr>\n",
       "  </tbody>\n",
       "</table>\n",
       "</div>"
      ],
      "text/plain": [
       "                Model Name     RMSE  Number of Feature\n",
       "0        Linear Regression     0.03                938\n",
       "1                      KNN  4039.45                938\n",
       "2            Decision Tree    19.06                938\n",
       "3  Random Forest Regressor    10.00                938\n",
       "4                    Lasso     6.30                938\n",
       "5        Linear Regression     0.09                772\n",
       "6                      KNN  4907.02                772\n",
       "7            Decision Tree    18.49                772\n",
       "8  Random Forest Regressor     9.27                772"
      ]
     },
     "execution_count": 35,
     "metadata": {},
     "output_type": "execute_result"
    }
   ],
   "source": [
    "pd.concat([output_x, output_x_variance]).reset_index(drop=True)"
   ]
  },
  {
   "cell_type": "markdown",
   "id": "4a7f9766",
   "metadata": {},
   "source": [
    "- Tree based algorithms: RandomForestRegressor and DecisionTreeRegressor performance improve a little bit after dropping low variance variables.\n",
    "- Distance based algorithms: LinearRegression and KNN performance is a little worser than before. "
   ]
  },
  {
   "cell_type": "markdown",
   "id": "4ee2625e",
   "metadata": {},
   "source": [
    "## By frequency"
   ]
  },
  {
   "cell_type": "markdown",
   "id": "6345a049",
   "metadata": {},
   "source": [
    "For categorical variables, we can look at the frequency distribution of the categories. If a single category is repeating more frequency, let's say by 90% or more, we can drop it."
   ]
  },
  {
   "cell_type": "code",
   "execution_count": 36,
   "id": "c0ef04e5",
   "metadata": {
    "ExecuteTime": {
     "end_time": "2022-03-29T22:43:49.950637Z",
     "start_time": "2022-03-29T22:43:46.459978Z"
    },
    "scrolled": true
   },
   "outputs": [
    {
     "data": {
      "text/html": [
       "<div>\n",
       "<style scoped>\n",
       "    .dataframe tbody tr th:only-of-type {\n",
       "        vertical-align: middle;\n",
       "    }\n",
       "\n",
       "    .dataframe tbody tr th {\n",
       "        vertical-align: top;\n",
       "    }\n",
       "\n",
       "    .dataframe thead th {\n",
       "        text-align: right;\n",
       "    }\n",
       "</style>\n",
       "<table border=\"1\" class=\"dataframe\">\n",
       "  <thead>\n",
       "    <tr style=\"text-align: right;\">\n",
       "      <th></th>\n",
       "      <th>count</th>\n",
       "      <th>unique</th>\n",
       "      <th>top</th>\n",
       "      <th>freq</th>\n",
       "      <th>percentage</th>\n",
       "    </tr>\n",
       "  </thead>\n",
       "  <tbody>\n",
       "    <tr>\n",
       "      <th>REGIONC</th>\n",
       "      <td>12083</td>\n",
       "      <td>4</td>\n",
       "      <td>3</td>\n",
       "      <td>4090</td>\n",
       "      <td>0.338492</td>\n",
       "    </tr>\n",
       "    <tr>\n",
       "      <th>TYPEHUQ</th>\n",
       "      <td>12083</td>\n",
       "      <td>5</td>\n",
       "      <td>2</td>\n",
       "      <td>7803</td>\n",
       "      <td>0.645783</td>\n",
       "    </tr>\n",
       "    <tr>\n",
       "      <th>Climate_Region_Pub</th>\n",
       "      <td>12083</td>\n",
       "      <td>5</td>\n",
       "      <td>1</td>\n",
       "      <td>3993</td>\n",
       "      <td>0.330464</td>\n",
       "    </tr>\n",
       "    <tr>\n",
       "      <th>AIA_Zone</th>\n",
       "      <td>12083</td>\n",
       "      <td>5</td>\n",
       "      <td>3</td>\n",
       "      <td>3079</td>\n",
       "      <td>0.254821</td>\n",
       "    </tr>\n",
       "    <tr>\n",
       "      <th>METROMICRO</th>\n",
       "      <td>12083</td>\n",
       "      <td>3</td>\n",
       "      <td>0</td>\n",
       "      <td>10302</td>\n",
       "      <td>0.852603</td>\n",
       "    </tr>\n",
       "  </tbody>\n",
       "</table>\n",
       "</div>"
      ],
      "text/plain": [
       "                    count  unique  top   freq  percentage\n",
       "REGIONC             12083       4    3   4090    0.338492\n",
       "TYPEHUQ             12083       5    2   7803    0.645783\n",
       "Climate_Region_Pub  12083       5    1   3993    0.330464\n",
       "AIA_Zone            12083       5    3   3079    0.254821\n",
       "METROMICRO          12083       3    0  10302    0.852603"
      ]
     },
     "execution_count": 36,
     "metadata": {},
     "output_type": "execute_result"
    }
   ],
   "source": [
    "cat_columnsinfo = X.select_dtypes(include='category').describe().T\n",
    "cat_columnsinfo['percentage'] = cat_columnsinfo.apply(lambda x: x['freq']/x['count'], axis = 1)\n",
    "cat_columnsinfo.head()"
   ]
  },
  {
   "cell_type": "code",
   "execution_count": 37,
   "id": "c1f1f92c",
   "metadata": {
    "ExecuteTime": {
     "end_time": "2022-03-29T22:43:49.966595Z",
     "start_time": "2022-03-29T22:43:49.954632Z"
    }
   },
   "outputs": [
    {
     "data": {
      "text/plain": [
       "563"
      ]
     },
     "execution_count": 37,
     "metadata": {},
     "output_type": "execute_result"
    }
   ],
   "source": [
    "# category columns that a high frequency single variable\n",
    "frequency_above80 = cat_columnsinfo[cat_columnsinfo['percentage'] > 0.8].index.tolist()\n",
    "len(frequency_above80)"
   ]
  },
  {
   "cell_type": "code",
   "execution_count": 38,
   "id": "a8fde8bb",
   "metadata": {
    "ExecuteTime": {
     "end_time": "2022-03-29T22:43:49.997514Z",
     "start_time": "2022-03-29T22:43:49.970584Z"
    }
   },
   "outputs": [
    {
     "data": {
      "text/plain": [
       "209"
      ]
     },
     "execution_count": 38,
     "metadata": {},
     "output_type": "execute_result"
    }
   ],
   "source": [
    "# drop that variables\n",
    "X_frequency = X_variance.drop(frequency_above80, axis=1)\n",
    "X_frequency.shape[1]"
   ]
  },
  {
   "cell_type": "code",
   "execution_count": 39,
   "id": "cbdf20ab",
   "metadata": {
    "ExecuteTime": {
     "end_time": "2022-03-29T22:44:36.326572Z",
     "start_time": "2022-03-29T22:43:50.000505Z"
    }
   },
   "outputs": [
    {
     "data": {
      "text/html": [
       "<div>\n",
       "<style scoped>\n",
       "    .dataframe tbody tr th:only-of-type {\n",
       "        vertical-align: middle;\n",
       "    }\n",
       "\n",
       "    .dataframe tbody tr th {\n",
       "        vertical-align: top;\n",
       "    }\n",
       "\n",
       "    .dataframe thead th {\n",
       "        text-align: right;\n",
       "    }\n",
       "</style>\n",
       "<table border=\"1\" class=\"dataframe\">\n",
       "  <thead>\n",
       "    <tr style=\"text-align: right;\">\n",
       "      <th></th>\n",
       "      <th>Model Name</th>\n",
       "      <th>RMSE</th>\n",
       "      <th>Number of Feature</th>\n",
       "    </tr>\n",
       "  </thead>\n",
       "  <tbody>\n",
       "    <tr>\n",
       "      <th>0</th>\n",
       "      <td>Linear Regression</td>\n",
       "      <td>0.09</td>\n",
       "      <td>209</td>\n",
       "    </tr>\n",
       "    <tr>\n",
       "      <th>1</th>\n",
       "      <td>KNN</td>\n",
       "      <td>4686.71</td>\n",
       "      <td>209</td>\n",
       "    </tr>\n",
       "    <tr>\n",
       "      <th>2</th>\n",
       "      <td>Decision Tree</td>\n",
       "      <td>18.51</td>\n",
       "      <td>209</td>\n",
       "    </tr>\n",
       "    <tr>\n",
       "      <th>3</th>\n",
       "      <td>Random Forest Regressor</td>\n",
       "      <td>9.03</td>\n",
       "      <td>209</td>\n",
       "    </tr>\n",
       "  </tbody>\n",
       "</table>\n",
       "</div>"
      ],
      "text/plain": [
       "                Model Name     RMSE  Number of Feature\n",
       "0        Linear Regression     0.09                209\n",
       "1                      KNN  4686.71                209\n",
       "2            Decision Tree    18.51                209\n",
       "3  Random Forest Regressor     9.03                209"
      ]
     },
     "execution_count": 39,
     "metadata": {},
     "output_type": "execute_result"
    }
   ],
   "source": [
    "output_x_frequency = rmse_score(X_frequency)\n",
    "output_x_frequency"
   ]
  },
  {
   "cell_type": "code",
   "execution_count": 40,
   "id": "5effa32a",
   "metadata": {
    "ExecuteTime": {
     "end_time": "2022-03-29T22:44:36.357489Z",
     "start_time": "2022-03-29T22:44:36.329564Z"
    }
   },
   "outputs": [
    {
     "data": {
      "text/html": [
       "<div>\n",
       "<style scoped>\n",
       "    .dataframe tbody tr th:only-of-type {\n",
       "        vertical-align: middle;\n",
       "    }\n",
       "\n",
       "    .dataframe tbody tr th {\n",
       "        vertical-align: top;\n",
       "    }\n",
       "\n",
       "    .dataframe thead th {\n",
       "        text-align: right;\n",
       "    }\n",
       "</style>\n",
       "<table border=\"1\" class=\"dataframe\">\n",
       "  <thead>\n",
       "    <tr style=\"text-align: right;\">\n",
       "      <th></th>\n",
       "      <th>Model Name</th>\n",
       "      <th>RMSE</th>\n",
       "      <th>Number of Feature</th>\n",
       "    </tr>\n",
       "  </thead>\n",
       "  <tbody>\n",
       "    <tr>\n",
       "      <th>0</th>\n",
       "      <td>Linear Regression</td>\n",
       "      <td>0.03</td>\n",
       "      <td>938</td>\n",
       "    </tr>\n",
       "    <tr>\n",
       "      <th>1</th>\n",
       "      <td>KNN</td>\n",
       "      <td>4039.45</td>\n",
       "      <td>938</td>\n",
       "    </tr>\n",
       "    <tr>\n",
       "      <th>2</th>\n",
       "      <td>Decision Tree</td>\n",
       "      <td>19.06</td>\n",
       "      <td>938</td>\n",
       "    </tr>\n",
       "    <tr>\n",
       "      <th>3</th>\n",
       "      <td>Random Forest Regressor</td>\n",
       "      <td>10.00</td>\n",
       "      <td>938</td>\n",
       "    </tr>\n",
       "    <tr>\n",
       "      <th>4</th>\n",
       "      <td>Lasso</td>\n",
       "      <td>6.30</td>\n",
       "      <td>938</td>\n",
       "    </tr>\n",
       "    <tr>\n",
       "      <th>5</th>\n",
       "      <td>Linear Regression</td>\n",
       "      <td>0.09</td>\n",
       "      <td>772</td>\n",
       "    </tr>\n",
       "    <tr>\n",
       "      <th>6</th>\n",
       "      <td>KNN</td>\n",
       "      <td>4907.02</td>\n",
       "      <td>772</td>\n",
       "    </tr>\n",
       "    <tr>\n",
       "      <th>7</th>\n",
       "      <td>Decision Tree</td>\n",
       "      <td>18.49</td>\n",
       "      <td>772</td>\n",
       "    </tr>\n",
       "    <tr>\n",
       "      <th>8</th>\n",
       "      <td>Random Forest Regressor</td>\n",
       "      <td>9.27</td>\n",
       "      <td>772</td>\n",
       "    </tr>\n",
       "    <tr>\n",
       "      <th>9</th>\n",
       "      <td>Linear Regression</td>\n",
       "      <td>0.09</td>\n",
       "      <td>209</td>\n",
       "    </tr>\n",
       "    <tr>\n",
       "      <th>10</th>\n",
       "      <td>KNN</td>\n",
       "      <td>4686.71</td>\n",
       "      <td>209</td>\n",
       "    </tr>\n",
       "    <tr>\n",
       "      <th>11</th>\n",
       "      <td>Decision Tree</td>\n",
       "      <td>18.51</td>\n",
       "      <td>209</td>\n",
       "    </tr>\n",
       "    <tr>\n",
       "      <th>12</th>\n",
       "      <td>Random Forest Regressor</td>\n",
       "      <td>9.03</td>\n",
       "      <td>209</td>\n",
       "    </tr>\n",
       "  </tbody>\n",
       "</table>\n",
       "</div>"
      ],
      "text/plain": [
       "                 Model Name     RMSE  Number of Feature\n",
       "0         Linear Regression     0.03                938\n",
       "1                       KNN  4039.45                938\n",
       "2             Decision Tree    19.06                938\n",
       "3   Random Forest Regressor    10.00                938\n",
       "4                     Lasso     6.30                938\n",
       "5         Linear Regression     0.09                772\n",
       "6                       KNN  4907.02                772\n",
       "7             Decision Tree    18.49                772\n",
       "8   Random Forest Regressor     9.27                772\n",
       "9         Linear Regression     0.09                209\n",
       "10                      KNN  4686.71                209\n",
       "11            Decision Tree    18.51                209\n",
       "12  Random Forest Regressor     9.03                209"
      ]
     },
     "execution_count": 40,
     "metadata": {},
     "output_type": "execute_result"
    }
   ],
   "source": [
    "# concat the previous RMSE dataframe\n",
    "pd.concat([output_x, output_x_variance, output_x_frequency]\n",
    "          ).reset_index(drop=True)"
   ]
  },
  {
   "cell_type": "markdown",
   "id": "ff0ca94f",
   "metadata": {},
   "source": [
    "RMSE is similar to previous step (after dropping low variance variables). **Decision Tree and Random Forest** performs better after reducing feature numbers **from 938 to 209**. "
   ]
  },
  {
   "cell_type": "code",
   "execution_count": 41,
   "id": "dea051f1",
   "metadata": {
    "ExecuteTime": {
     "end_time": "2022-03-29T22:44:36.544987Z",
     "start_time": "2022-03-29T22:44:36.360481Z"
    }
   },
   "outputs": [
    {
     "data": {
      "text/plain": [
       "197"
      ]
     },
     "execution_count": 41,
     "metadata": {},
     "output_type": "execute_result"
    }
   ],
   "source": [
    "# catogorical columns\n",
    "cat_columns_frequency = X_frequency.select_dtypes(include='category').columns\n",
    "len(cat_columns_frequency)"
   ]
  },
  {
   "cell_type": "code",
   "execution_count": 42,
   "id": "f4449b6f",
   "metadata": {
    "ExecuteTime": {
     "end_time": "2022-03-29T22:44:36.729496Z",
     "start_time": "2022-03-29T22:44:36.547981Z"
    }
   },
   "outputs": [
    {
     "data": {
      "text/plain": [
       "12"
      ]
     },
     "execution_count": 42,
     "metadata": {},
     "output_type": "execute_result"
    }
   ],
   "source": [
    "# continuous columns\n",
    "cont_columns_frequency = X_frequency.select_dtypes(exclude='category').columns\n",
    "len(cont_columns_frequency)"
   ]
  },
  {
   "cell_type": "code",
   "execution_count": 43,
   "id": "7a9c9358",
   "metadata": {
    "ExecuteTime": {
     "end_time": "2022-03-29T22:44:36.745452Z",
     "start_time": "2022-03-29T22:44:36.732486Z"
    }
   },
   "outputs": [
    {
     "data": {
      "text/plain": [
       "209"
      ]
     },
     "execution_count": 43,
     "metadata": {},
     "output_type": "execute_result"
    }
   ],
   "source": [
    "# number of features\n",
    "len(cat_columns_frequency) + len(cont_columns_frequency)"
   ]
  },
  {
   "cell_type": "markdown",
   "id": "1f70c93c",
   "metadata": {},
   "source": [
    "It confirms that we have 209 features left. Now we move on to correlation analysis. "
   ]
  },
  {
   "cell_type": "markdown",
   "id": "80437426",
   "metadata": {
    "ExecuteTime": {
     "end_time": "2022-03-26T02:57:35.237138Z",
     "start_time": "2022-03-26T02:57:35.225170Z"
    }
   },
   "source": [
    "## By Correlation \n",
    "### Pairwise Correlation (Pearson correlation)"
   ]
  },
  {
   "cell_type": "code",
   "execution_count": 44,
   "id": "7a3648ea",
   "metadata": {
    "ExecuteTime": {
     "end_time": "2022-03-29T22:44:42.000393Z",
     "start_time": "2022-03-29T22:44:36.748445Z"
    }
   },
   "outputs": [
    {
     "data": {
      "text/plain": [
       "<AxesSubplot:>"
      ]
     },
     "execution_count": 44,
     "metadata": {},
     "output_type": "execute_result"
    },
    {
     "data": {
      "image/png": "[encoded data removed]",
      "text/plain": [
       "<Figure size 576x576 with 2 Axes>"
      ]
     },
     "metadata": {
      "needs_background": "light"
     },
     "output_type": "display_data"
    }
   ],
   "source": [
    "# correlation heatmap\n",
    "import seaborn as sns\n",
    "import matplotlib.pyplot as plt\n",
    "plt.figure(figsize=(8, 8))\n",
    "sns.heatmap(X_frequency[cont_columns_frequency].corr().round(\n",
    "    2), annot=True, cmap='Oranges')"
   ]
  },
  {
   "cell_type": "code",
   "execution_count": 45,
   "id": "5c7fdf8d",
   "metadata": {
    "ExecuteTime": {
     "end_time": "2022-03-29T22:44:42.030313Z",
     "start_time": "2022-03-29T22:44:42.004383Z"
    }
   },
   "outputs": [],
   "source": [
    "# paire-wise correlation\n",
    "def correlation(data, threshold):\n",
    "    '''\n",
    "    INPUT: data, dataframe\n",
    "           threshold,  float\n",
    "    OUTPUT: pairwise correlation dataframe\n",
    "    '''\n",
    "    rowname = []\n",
    "    colname = []\n",
    "    corr_score = []\n",
    "    corr_matrix = data.corr()\n",
    "\n",
    "    for i in range(0, len(corr_matrix.columns)):\n",
    "        for j in range(i):\n",
    "            if abs(corr_matrix.iloc[i, j]) > threshold:\n",
    "                rowname.append(corr_matrix.index[i])\n",
    "                colname.append(corr_matrix.columns[j])\n",
    "                corr_score.append(abs(corr_matrix.iloc[i, j]).round(2))\n",
    "                \n",
    "    df = pd.DataFrame(list(zip(rowname, colname, corr_score)), columns=[\n",
    "                      'Row Name', 'Column Name', 'Pairewise Correlation'])\n",
    "\n",
    "    return df"
   ]
  },
  {
   "cell_type": "code",
   "execution_count": 46,
   "id": "d1cbcd27",
   "metadata": {
    "ExecuteTime": {
     "end_time": "2022-03-29T22:44:42.107110Z",
     "start_time": "2022-03-29T22:44:42.034302Z"
    }
   },
   "outputs": [
    {
     "data": {
      "text/html": [
       "<div>\n",
       "<style scoped>\n",
       "    .dataframe tbody tr th:only-of-type {\n",
       "        vertical-align: middle;\n",
       "    }\n",
       "\n",
       "    .dataframe tbody tr th {\n",
       "        vertical-align: top;\n",
       "    }\n",
       "\n",
       "    .dataframe thead th {\n",
       "        text-align: right;\n",
       "    }\n",
       "</style>\n",
       "<table border=\"1\" class=\"dataframe\">\n",
       "  <thead>\n",
       "    <tr style=\"text-align: right;\">\n",
       "      <th></th>\n",
       "      <th>Row Name</th>\n",
       "      <th>Column Name</th>\n",
       "      <th>Pairewise Correlation</th>\n",
       "    </tr>\n",
       "  </thead>\n",
       "  <tbody>\n",
       "    <tr>\n",
       "      <th>0</th>\n",
       "      <td>BTUELOTH</td>\n",
       "      <td>BTUEL</td>\n",
       "      <td>0.87</td>\n",
       "    </tr>\n",
       "    <tr>\n",
       "      <th>1</th>\n",
       "      <td>BTUNGSPH</td>\n",
       "      <td>BTUNG</td>\n",
       "      <td>0.93</td>\n",
       "    </tr>\n",
       "    <tr>\n",
       "      <th>2</th>\n",
       "      <td>BTUNGWTH</td>\n",
       "      <td>BTUNG</td>\n",
       "      <td>0.80</td>\n",
       "    </tr>\n",
       "    <tr>\n",
       "      <th>3</th>\n",
       "      <td>BTUFOSPH</td>\n",
       "      <td>BTUFO</td>\n",
       "      <td>0.99</td>\n",
       "    </tr>\n",
       "    <tr>\n",
       "      <th>4</th>\n",
       "      <td>TOTALBTUSPH</td>\n",
       "      <td>BTUNGSPH</td>\n",
       "      <td>0.75</td>\n",
       "    </tr>\n",
       "    <tr>\n",
       "      <th>5</th>\n",
       "      <td>TOTALBTUOTH</td>\n",
       "      <td>BTUELOTH</td>\n",
       "      <td>0.84</td>\n",
       "    </tr>\n",
       "  </tbody>\n",
       "</table>\n",
       "</div>"
      ],
      "text/plain": [
       "      Row Name Column Name  Pairewise Correlation\n",
       "0     BTUELOTH       BTUEL                   0.87\n",
       "1     BTUNGSPH       BTUNG                   0.93\n",
       "2     BTUNGWTH       BTUNG                   0.80\n",
       "3     BTUFOSPH       BTUFO                   0.99\n",
       "4  TOTALBTUSPH    BTUNGSPH                   0.75\n",
       "5  TOTALBTUOTH    BTUELOTH                   0.84"
      ]
     },
     "execution_count": 46,
     "metadata": {},
     "output_type": "execute_result"
    }
   ],
   "source": [
    "# highly pairwise correlated columns \n",
    "high_corr_col = correlation(X_frequency[cont_columns_frequency], 0.7)\n",
    "high_corr_col"
   ]
  },
  {
   "cell_type": "markdown",
   "id": "f1b8fe38",
   "metadata": {},
   "source": [
    "Drop one of highly pairwise correlated variables. The criteria is to keep which one has higher correlation with target variables. "
   ]
  },
  {
   "cell_type": "markdown",
   "id": "c11483a8",
   "metadata": {},
   "source": [
    "### Cotinuous variables correlation with target variables"
   ]
  },
  {
   "cell_type": "code",
   "execution_count": 47,
   "id": "da81c81e",
   "metadata": {
    "ExecuteTime": {
     "end_time": "2022-03-29T22:44:42.185897Z",
     "start_time": "2022-03-29T22:44:42.112096Z"
    }
   },
   "outputs": [
    {
     "data": {
      "text/html": [
       "<div>\n",
       "<style scoped>\n",
       "    .dataframe tbody tr th:only-of-type {\n",
       "        vertical-align: middle;\n",
       "    }\n",
       "\n",
       "    .dataframe tbody tr th {\n",
       "        vertical-align: top;\n",
       "    }\n",
       "\n",
       "    .dataframe thead th {\n",
       "        text-align: right;\n",
       "    }\n",
       "</style>\n",
       "<table border=\"1\" class=\"dataframe\">\n",
       "  <thead>\n",
       "    <tr style=\"text-align: right;\">\n",
       "      <th></th>\n",
       "      <th>NWEIGHT</th>\n",
       "      <th>BTUEL</th>\n",
       "      <th>BTUELOTH</th>\n",
       "      <th>BTUNG</th>\n",
       "      <th>BTUNGSPH</th>\n",
       "      <th>BTUNGWTH</th>\n",
       "      <th>BTULP</th>\n",
       "      <th>BTUFO</th>\n",
       "      <th>BTUFOSPH</th>\n",
       "      <th>BTUWOOD</th>\n",
       "      <th>TOTALBTUSPH</th>\n",
       "      <th>TOTALBTUOTH</th>\n",
       "      <th>KWH</th>\n",
       "    </tr>\n",
       "  </thead>\n",
       "  <tbody>\n",
       "    <tr>\n",
       "      <th>0</th>\n",
       "      <td>2709.864</td>\n",
       "      <td>63006.0</td>\n",
       "      <td>26362.97</td>\n",
       "      <td>0.0</td>\n",
       "      <td>0.00</td>\n",
       "      <td>0.00</td>\n",
       "      <td>0.0</td>\n",
       "      <td>0</td>\n",
       "      <td>0.0</td>\n",
       "      <td>0</td>\n",
       "      <td>10873.0</td>\n",
       "      <td>26363.0</td>\n",
       "      <td>18466.0</td>\n",
       "    </tr>\n",
       "    <tr>\n",
       "      <th>1</th>\n",
       "      <td>8599.170</td>\n",
       "      <td>17565.0</td>\n",
       "      <td>12473.54</td>\n",
       "      <td>85895.0</td>\n",
       "      <td>38605.96</td>\n",
       "      <td>30109.97</td>\n",
       "      <td>0.0</td>\n",
       "      <td>0</td>\n",
       "      <td>0.0</td>\n",
       "      <td>20000</td>\n",
       "      <td>38606.0</td>\n",
       "      <td>29653.0</td>\n",
       "      <td>5148.0</td>\n",
       "    </tr>\n",
       "    <tr>\n",
       "      <th>2</th>\n",
       "      <td>8969.920</td>\n",
       "      <td>7568.0</td>\n",
       "      <td>3814.29</td>\n",
       "      <td>51148.0</td>\n",
       "      <td>40248.23</td>\n",
       "      <td>7932.98</td>\n",
       "      <td>0.0</td>\n",
       "      <td>0</td>\n",
       "      <td>0.0</td>\n",
       "      <td>0</td>\n",
       "      <td>40248.0</td>\n",
       "      <td>6781.0</td>\n",
       "      <td>2218.0</td>\n",
       "    </tr>\n",
       "    <tr>\n",
       "      <th>3</th>\n",
       "      <td>18003.640</td>\n",
       "      <td>34171.0</td>\n",
       "      <td>18403.93</td>\n",
       "      <td>42230.0</td>\n",
       "      <td>40195.58</td>\n",
       "      <td>0.00</td>\n",
       "      <td>0.0</td>\n",
       "      <td>0</td>\n",
       "      <td>0.0</td>\n",
       "      <td>0</td>\n",
       "      <td>40196.0</td>\n",
       "      <td>20438.0</td>\n",
       "      <td>10015.0</td>\n",
       "    </tr>\n",
       "    <tr>\n",
       "      <th>4</th>\n",
       "      <td>5999.610</td>\n",
       "      <td>9789.0</td>\n",
       "      <td>8606.86</td>\n",
       "      <td>50020.0</td>\n",
       "      <td>36136.28</td>\n",
       "      <td>13883.72</td>\n",
       "      <td>0.0</td>\n",
       "      <td>0</td>\n",
       "      <td>0.0</td>\n",
       "      <td>0</td>\n",
       "      <td>36136.0</td>\n",
       "      <td>8607.0</td>\n",
       "      <td>2869.0</td>\n",
       "    </tr>\n",
       "  </tbody>\n",
       "</table>\n",
       "</div>"
      ],
      "text/plain": [
       "     NWEIGHT    BTUEL  BTUELOTH    BTUNG  BTUNGSPH  BTUNGWTH  BTULP  BTUFO  \\\n",
       "0   2709.864  63006.0  26362.97      0.0      0.00      0.00    0.0      0   \n",
       "1   8599.170  17565.0  12473.54  85895.0  38605.96  30109.97    0.0      0   \n",
       "2   8969.920   7568.0   3814.29  51148.0  40248.23   7932.98    0.0      0   \n",
       "3  18003.640  34171.0  18403.93  42230.0  40195.58      0.00    0.0      0   \n",
       "4   5999.610   9789.0   8606.86  50020.0  36136.28  13883.72    0.0      0   \n",
       "\n",
       "   BTUFOSPH  BTUWOOD  TOTALBTUSPH  TOTALBTUOTH      KWH  \n",
       "0       0.0        0      10873.0      26363.0  18466.0  \n",
       "1       0.0    20000      38606.0      29653.0   5148.0  \n",
       "2       0.0        0      40248.0       6781.0   2218.0  \n",
       "3       0.0        0      40196.0      20438.0  10015.0  \n",
       "4       0.0        0      36136.0       8607.0   2869.0  "
      ]
     },
     "execution_count": 47,
     "metadata": {},
     "output_type": "execute_result"
    }
   ],
   "source": [
    "# continuous variables with target variables\n",
    "corr_df = pd.concat([data[cont_columns_frequency], data['KWH']], axis =1)\n",
    "corr_df.head()"
   ]
  },
  {
   "cell_type": "code",
   "execution_count": 48,
   "id": "12b77673",
   "metadata": {
    "ExecuteTime": {
     "end_time": "2022-03-29T22:44:42.232771Z",
     "start_time": "2022-03-29T22:44:42.189886Z"
    }
   },
   "outputs": [
    {
     "data": {
      "text/plain": [
       "NWEIGHT        0.004499\n",
       "BTUEL          1.000000\n",
       "BTUELOTH       0.874143\n",
       "BTUNG          0.138346\n",
       "BTUNGSPH       0.149421\n",
       "BTUNGWTH       0.090591\n",
       "BTULP          0.090609\n",
       "BTUFO          0.070284\n",
       "BTUFOSPH       0.072004\n",
       "BTUWOOD        0.082210\n",
       "TOTALBTUSPH    0.081012\n",
       "TOTALBTUOTH    0.690381\n",
       "KWH            1.000000\n",
       "Name: KWH, dtype: float64"
      ]
     },
     "execution_count": 48,
     "metadata": {},
     "output_type": "execute_result"
    }
   ],
   "source": [
    "# correlation with target variables\n",
    "abs(corr_df.corr()['KWH'])"
   ]
  },
  {
   "cell_type": "code",
   "execution_count": 49,
   "id": "f0715402",
   "metadata": {
    "ExecuteTime": {
     "end_time": "2022-03-29T22:44:42.295603Z",
     "start_time": "2022-03-29T22:44:42.236761Z"
    }
   },
   "outputs": [
    {
     "data": {
      "text/plain": [
       "KWH            1.000000\n",
       "BTUEL          1.000000\n",
       "BTUELOTH       0.874143\n",
       "TOTALBTUOTH    0.690381\n",
       "Name: KWH, dtype: float64"
      ]
     },
     "execution_count": 49,
     "metadata": {},
     "output_type": "execute_result"
    }
   ],
   "source": [
    "# above correlation of 0.5 variables\n",
    "s_corr = abs(corr_df.corr()['KWH'])[abs(corr_df.corr()['KWH']) > 0.5].sort_values(ascending = False)\n",
    "s_corr "
   ]
  },
  {
   "cell_type": "code",
   "execution_count": 50,
   "id": "5bc94083",
   "metadata": {
    "ExecuteTime": {
     "end_time": "2022-03-29T22:44:42.311561Z",
     "start_time": "2022-03-29T22:44:42.299593Z"
    }
   },
   "outputs": [
    {
     "data": {
      "text/plain": [
       "['BTUEL', 'BTUELOTH', 'TOTALBTUOTH']"
      ]
     },
     "execution_count": 50,
     "metadata": {},
     "output_type": "execute_result"
    }
   ],
   "source": [
    "# high correlation continuous columns\n",
    "pairwise_corr_col = list(set(list(high_corr_col['Row Name']) + list(high_corr_col['Column Name'])))\n",
    "cont_columns_corr = s_corr[s_corr.index.isin(pairwise_corr_col)].index.tolist()\n",
    "cont_columns_corr"
   ]
  },
  {
   "cell_type": "markdown",
   "id": "e9ca4018",
   "metadata": {},
   "source": [
    "Those variables highly correlated with each other **BTUEL, BTUELOTH, TOTALBTUOTH** are also highly correlated with target variabels (> 0.5). Since the correlation of **BTUEL** is higher than that of **BTUELOTH**. we keep **BTUEL** and remove **BTUELOTH**. "
   ]
  },
  {
   "cell_type": "code",
   "execution_count": 51,
   "id": "63d800e6",
   "metadata": {
    "ExecuteTime": {
     "end_time": "2022-03-29T22:44:42.326524Z",
     "start_time": "2022-03-29T22:44:42.315550Z"
    }
   },
   "outputs": [
    {
     "name": "stdout",
     "output_type": "stream",
     "text": [
      "['BTUEL', 'TOTALBTUOTH']\n"
     ]
    }
   ],
   "source": [
    "# remove BTUELOTH\n",
    "cont_columns_corr.remove('BTUELOTH')\n",
    "print(cont_columns_corr)"
   ]
  },
  {
   "cell_type": "code",
   "execution_count": 52,
   "id": "3a64fb36",
   "metadata": {
    "ExecuteTime": {
     "end_time": "2022-03-29T22:44:42.342481Z",
     "start_time": "2022-03-29T22:44:42.330511Z"
    }
   },
   "outputs": [
    {
     "data": {
      "text/plain": [
       "2"
      ]
     },
     "execution_count": 52,
     "metadata": {},
     "output_type": "execute_result"
    }
   ],
   "source": [
    "# number of continous columns\n",
    "len(cont_columns_corr)"
   ]
  },
  {
   "cell_type": "markdown",
   "id": "52f6445a",
   "metadata": {},
   "source": [
    "- After removing low variance variables and keep high correlation varaibles **(above 0.5)** with target variables, we have 2 continuous features left."
   ]
  },
  {
   "cell_type": "code",
   "execution_count": 53,
   "id": "0954b169",
   "metadata": {
    "ExecuteTime": {
     "end_time": "2022-03-29T22:44:42.358435Z",
     "start_time": "2022-03-29T22:44:42.347465Z"
    }
   },
   "outputs": [
    {
     "data": {
      "text/plain": [
       "199"
      ]
     },
     "execution_count": 53,
     "metadata": {},
     "output_type": "execute_result"
    }
   ],
   "source": [
    "# number of features after variance and correlation analysis\n",
    "len(cont_columns_corr) + len(cat_columns_frequency)"
   ]
  },
  {
   "cell_type": "code",
   "execution_count": 54,
   "id": "b748037e",
   "metadata": {
    "ExecuteTime": {
     "end_time": "2022-03-29T22:44:42.374394Z",
     "start_time": "2022-03-29T22:44:42.361427Z"
    }
   },
   "outputs": [],
   "source": [
    "# continuous columns need to be dropped \n",
    "drop_cont_corr = list(set(cont_columns_frequency) - set(cont_columns_corr))"
   ]
  },
  {
   "cell_type": "code",
   "execution_count": 55,
   "id": "cd3b866a",
   "metadata": {
    "ExecuteTime": {
     "end_time": "2022-03-29T22:44:42.405310Z",
     "start_time": "2022-03-29T22:44:42.377385Z"
    }
   },
   "outputs": [
    {
     "data": {
      "text/plain": [
       "199"
      ]
     },
     "execution_count": 55,
     "metadata": {},
     "output_type": "execute_result"
    }
   ],
   "source": [
    "# dataframe after variance and correlation analysis\n",
    "X_corr = X_frequency.drop(columns=drop_cont_corr)\n",
    "X_corr.shape[1]"
   ]
  },
  {
   "cell_type": "markdown",
   "id": "f42ce036",
   "metadata": {},
   "source": [
    "We now have 199 features left. Let's see how it performs."
   ]
  },
  {
   "cell_type": "code",
   "execution_count": 56,
   "id": "931402a4",
   "metadata": {
    "ExecuteTime": {
     "end_time": "2022-03-29T22:45:13.569314Z",
     "start_time": "2022-03-29T22:44:42.409299Z"
    }
   },
   "outputs": [
    {
     "data": {
      "text/html": [
       "<div>\n",
       "<style scoped>\n",
       "    .dataframe tbody tr th:only-of-type {\n",
       "        vertical-align: middle;\n",
       "    }\n",
       "\n",
       "    .dataframe tbody tr th {\n",
       "        vertical-align: top;\n",
       "    }\n",
       "\n",
       "    .dataframe thead th {\n",
       "        text-align: right;\n",
       "    }\n",
       "</style>\n",
       "<table border=\"1\" class=\"dataframe\">\n",
       "  <thead>\n",
       "    <tr style=\"text-align: right;\">\n",
       "      <th></th>\n",
       "      <th>Model Name</th>\n",
       "      <th>RMSE</th>\n",
       "      <th>Number of Feature</th>\n",
       "    </tr>\n",
       "  </thead>\n",
       "  <tbody>\n",
       "    <tr>\n",
       "      <th>0</th>\n",
       "      <td>Linear Regression</td>\n",
       "      <td>0.09</td>\n",
       "      <td>199</td>\n",
       "    </tr>\n",
       "    <tr>\n",
       "      <th>1</th>\n",
       "      <td>KNN</td>\n",
       "      <td>4889.79</td>\n",
       "      <td>199</td>\n",
       "    </tr>\n",
       "    <tr>\n",
       "      <th>2</th>\n",
       "      <td>Decision Tree</td>\n",
       "      <td>16.89</td>\n",
       "      <td>199</td>\n",
       "    </tr>\n",
       "    <tr>\n",
       "      <th>3</th>\n",
       "      <td>Random Forest Regressor</td>\n",
       "      <td>9.11</td>\n",
       "      <td>199</td>\n",
       "    </tr>\n",
       "  </tbody>\n",
       "</table>\n",
       "</div>"
      ],
      "text/plain": [
       "                Model Name     RMSE  Number of Feature\n",
       "0        Linear Regression     0.09                199\n",
       "1                      KNN  4889.79                199\n",
       "2            Decision Tree    16.89                199\n",
       "3  Random Forest Regressor     9.11                199"
      ]
     },
     "execution_count": 56,
     "metadata": {},
     "output_type": "execute_result"
    }
   ],
   "source": [
    "output_x_corr = rmse_score(X_corr)\n",
    "output_x_corr"
   ]
  },
  {
   "cell_type": "code",
   "execution_count": 57,
   "id": "d41050d7",
   "metadata": {
    "ExecuteTime": {
     "end_time": "2022-03-29T22:45:13.585232Z",
     "start_time": "2022-03-29T22:45:13.571267Z"
    }
   },
   "outputs": [
    {
     "data": {
      "text/html": [
       "<div>\n",
       "<style scoped>\n",
       "    .dataframe tbody tr th:only-of-type {\n",
       "        vertical-align: middle;\n",
       "    }\n",
       "\n",
       "    .dataframe tbody tr th {\n",
       "        vertical-align: top;\n",
       "    }\n",
       "\n",
       "    .dataframe thead th {\n",
       "        text-align: right;\n",
       "    }\n",
       "</style>\n",
       "<table border=\"1\" class=\"dataframe\">\n",
       "  <thead>\n",
       "    <tr style=\"text-align: right;\">\n",
       "      <th></th>\n",
       "      <th>Model Name</th>\n",
       "      <th>RMSE</th>\n",
       "      <th>Number of Feature</th>\n",
       "    </tr>\n",
       "  </thead>\n",
       "  <tbody>\n",
       "    <tr>\n",
       "      <th>0</th>\n",
       "      <td>Linear Regression</td>\n",
       "      <td>0.03</td>\n",
       "      <td>938</td>\n",
       "    </tr>\n",
       "    <tr>\n",
       "      <th>1</th>\n",
       "      <td>KNN</td>\n",
       "      <td>4039.45</td>\n",
       "      <td>938</td>\n",
       "    </tr>\n",
       "    <tr>\n",
       "      <th>2</th>\n",
       "      <td>Decision Tree</td>\n",
       "      <td>19.06</td>\n",
       "      <td>938</td>\n",
       "    </tr>\n",
       "    <tr>\n",
       "      <th>3</th>\n",
       "      <td>Random Forest Regressor</td>\n",
       "      <td>10.00</td>\n",
       "      <td>938</td>\n",
       "    </tr>\n",
       "    <tr>\n",
       "      <th>4</th>\n",
       "      <td>Lasso</td>\n",
       "      <td>6.30</td>\n",
       "      <td>938</td>\n",
       "    </tr>\n",
       "    <tr>\n",
       "      <th>5</th>\n",
       "      <td>Linear Regression</td>\n",
       "      <td>0.09</td>\n",
       "      <td>772</td>\n",
       "    </tr>\n",
       "    <tr>\n",
       "      <th>6</th>\n",
       "      <td>KNN</td>\n",
       "      <td>4907.02</td>\n",
       "      <td>772</td>\n",
       "    </tr>\n",
       "    <tr>\n",
       "      <th>7</th>\n",
       "      <td>Decision Tree</td>\n",
       "      <td>18.49</td>\n",
       "      <td>772</td>\n",
       "    </tr>\n",
       "    <tr>\n",
       "      <th>8</th>\n",
       "      <td>Random Forest Regressor</td>\n",
       "      <td>9.27</td>\n",
       "      <td>772</td>\n",
       "    </tr>\n",
       "    <tr>\n",
       "      <th>9</th>\n",
       "      <td>Linear Regression</td>\n",
       "      <td>0.09</td>\n",
       "      <td>209</td>\n",
       "    </tr>\n",
       "    <tr>\n",
       "      <th>10</th>\n",
       "      <td>KNN</td>\n",
       "      <td>4686.71</td>\n",
       "      <td>209</td>\n",
       "    </tr>\n",
       "    <tr>\n",
       "      <th>11</th>\n",
       "      <td>Decision Tree</td>\n",
       "      <td>18.51</td>\n",
       "      <td>209</td>\n",
       "    </tr>\n",
       "    <tr>\n",
       "      <th>12</th>\n",
       "      <td>Random Forest Regressor</td>\n",
       "      <td>9.03</td>\n",
       "      <td>209</td>\n",
       "    </tr>\n",
       "    <tr>\n",
       "      <th>13</th>\n",
       "      <td>Linear Regression</td>\n",
       "      <td>0.09</td>\n",
       "      <td>199</td>\n",
       "    </tr>\n",
       "    <tr>\n",
       "      <th>14</th>\n",
       "      <td>KNN</td>\n",
       "      <td>4889.79</td>\n",
       "      <td>199</td>\n",
       "    </tr>\n",
       "    <tr>\n",
       "      <th>15</th>\n",
       "      <td>Decision Tree</td>\n",
       "      <td>16.89</td>\n",
       "      <td>199</td>\n",
       "    </tr>\n",
       "    <tr>\n",
       "      <th>16</th>\n",
       "      <td>Random Forest Regressor</td>\n",
       "      <td>9.11</td>\n",
       "      <td>199</td>\n",
       "    </tr>\n",
       "  </tbody>\n",
       "</table>\n",
       "</div>"
      ],
      "text/plain": [
       "                 Model Name     RMSE  Number of Feature\n",
       "0         Linear Regression     0.03                938\n",
       "1                       KNN  4039.45                938\n",
       "2             Decision Tree    19.06                938\n",
       "3   Random Forest Regressor    10.00                938\n",
       "4                     Lasso     6.30                938\n",
       "5         Linear Regression     0.09                772\n",
       "6                       KNN  4907.02                772\n",
       "7             Decision Tree    18.49                772\n",
       "8   Random Forest Regressor     9.27                772\n",
       "9         Linear Regression     0.09                209\n",
       "10                      KNN  4686.71                209\n",
       "11            Decision Tree    18.51                209\n",
       "12  Random Forest Regressor     9.03                209\n",
       "13        Linear Regression     0.09                199\n",
       "14                      KNN  4889.79                199\n",
       "15            Decision Tree    16.89                199\n",
       "16  Random Forest Regressor     9.11                199"
      ]
     },
     "execution_count": 57,
     "metadata": {},
     "output_type": "execute_result"
    }
   ],
   "source": [
    "pd.concat([output_x, output_x_variance, output_x_frequency,\n",
    "          output_x_corr]).reset_index(drop=True)"
   ]
  },
  {
   "cell_type": "markdown",
   "id": "e5e86920",
   "metadata": {},
   "source": [
    "**Random Forest** and **Decision Tree** perform better after reducing feature numbers from **938** to **199**."
   ]
  },
  {
   "cell_type": "markdown",
   "id": "1a681331",
   "metadata": {
    "ExecuteTime": {
     "end_time": "2022-03-26T07:36:54.537985Z",
     "start_time": "2022-03-26T07:36:54.520995Z"
    }
   },
   "source": [
    "### categorical features - continuous target (ANOVA)"
   ]
  },
  {
   "cell_type": "markdown",
   "id": "bb598306",
   "metadata": {},
   "source": [
    "Assuming that\n",
    "\n",
    "1. The samples are independent.\n",
    "\n",
    "2. Each sample is from a normally distributed population.\n",
    "\n",
    "3. The population standard deviations of the groups are all equal. This property is known as homoscedasticity\n",
    "\n",
    "Then perform ANOVA test on categorical features and continuous target variables:"
   ]
  },
  {
   "cell_type": "markdown",
   "id": "3f0c3c7e",
   "metadata": {},
   "source": [
    "- **Ho**(Null Hypothesis): Two variables are not correlated.\n",
    "- **Ha**(Alternative Hypothesis): Two variables are correlated."
   ]
  },
  {
   "cell_type": "code",
   "execution_count": 58,
   "id": "3ebe8a7a",
   "metadata": {
    "ExecuteTime": {
     "end_time": "2022-03-29T22:45:18.913704Z",
     "start_time": "2022-03-29T22:45:13.587224Z"
    }
   },
   "outputs": [
    {
     "data": {
      "text/html": [
       "<div>\n",
       "<style scoped>\n",
       "    .dataframe tbody tr th:only-of-type {\n",
       "        vertical-align: middle;\n",
       "    }\n",
       "\n",
       "    .dataframe tbody tr th {\n",
       "        vertical-align: top;\n",
       "    }\n",
       "\n",
       "    .dataframe thead th {\n",
       "        text-align: right;\n",
       "    }\n",
       "</style>\n",
       "<table border=\"1\" class=\"dataframe\">\n",
       "  <thead>\n",
       "    <tr style=\"text-align: right;\">\n",
       "      <th></th>\n",
       "      <th></th>\n",
       "      <th>sum_sq</th>\n",
       "      <th>df</th>\n",
       "      <th>F</th>\n",
       "      <th>PR(&gt;F)</th>\n",
       "    </tr>\n",
       "  </thead>\n",
       "  <tbody>\n",
       "    <tr>\n",
       "      <th rowspan=\"2\" valign=\"top\">REGIONC</th>\n",
       "      <th>REGIONC</th>\n",
       "      <td>8.724649e+10</td>\n",
       "      <td>3.0</td>\n",
       "      <td>662.130640</td>\n",
       "      <td>0.000000e+00</td>\n",
       "    </tr>\n",
       "    <tr>\n",
       "      <th>Residual</th>\n",
       "      <td>5.305350e+11</td>\n",
       "      <td>12079.0</td>\n",
       "      <td>NaN</td>\n",
       "      <td>NaN</td>\n",
       "    </tr>\n",
       "    <tr>\n",
       "      <th rowspan=\"2\" valign=\"top\">TYPEHUQ</th>\n",
       "      <th>TYPEHUQ</th>\n",
       "      <td>9.072006e+10</td>\n",
       "      <td>4.0</td>\n",
       "      <td>519.729286</td>\n",
       "      <td>0.000000e+00</td>\n",
       "    </tr>\n",
       "    <tr>\n",
       "      <th>Residual</th>\n",
       "      <td>5.270614e+11</td>\n",
       "      <td>12078.0</td>\n",
       "      <td>NaN</td>\n",
       "      <td>NaN</td>\n",
       "    </tr>\n",
       "    <tr>\n",
       "      <th>Climate_Region_Pub</th>\n",
       "      <th>Climate_Region_Pub</th>\n",
       "      <td>6.251247e+10</td>\n",
       "      <td>4.0</td>\n",
       "      <td>339.936863</td>\n",
       "      <td>9.799037e-278</td>\n",
       "    </tr>\n",
       "    <tr>\n",
       "      <th>...</th>\n",
       "      <th>...</th>\n",
       "      <td>...</td>\n",
       "      <td>...</td>\n",
       "      <td>...</td>\n",
       "      <td>...</td>\n",
       "    </tr>\n",
       "    <tr>\n",
       "      <th>KAVALNG</th>\n",
       "      <th>Residual</th>\n",
       "      <td>5.505465e+11</td>\n",
       "      <td>12079.0</td>\n",
       "      <td>NaN</td>\n",
       "      <td>NaN</td>\n",
       "    </tr>\n",
       "    <tr>\n",
       "      <th rowspan=\"2\" valign=\"top\">SCALENG</th>\n",
       "      <th>SCALENG</th>\n",
       "      <td>6.680363e+10</td>\n",
       "      <td>4.0</td>\n",
       "      <td>366.101058</td>\n",
       "      <td>4.707379e-298</td>\n",
       "    </tr>\n",
       "    <tr>\n",
       "      <th>Residual</th>\n",
       "      <td>5.509778e+11</td>\n",
       "      <td>12078.0</td>\n",
       "      <td>NaN</td>\n",
       "      <td>NaN</td>\n",
       "    </tr>\n",
       "    <tr>\n",
       "      <th rowspan=\"2\" valign=\"top\">IECC_Climate_Pub</th>\n",
       "      <th>IECC_Climate_Pub</th>\n",
       "      <td>8.251806e+10</td>\n",
       "      <td>10.0</td>\n",
       "      <td>186.106134</td>\n",
       "      <td>0.000000e+00</td>\n",
       "    </tr>\n",
       "    <tr>\n",
       "      <th>Residual</th>\n",
       "      <td>5.352634e+11</td>\n",
       "      <td>12072.0</td>\n",
       "      <td>NaN</td>\n",
       "      <td>NaN</td>\n",
       "    </tr>\n",
       "  </tbody>\n",
       "</table>\n",
       "<p>394 rows × 4 columns</p>\n",
       "</div>"
      ],
      "text/plain": [
       "                                             sum_sq       df           F  \\\n",
       "REGIONC            REGIONC             8.724649e+10      3.0  662.130640   \n",
       "                   Residual            5.305350e+11  12079.0         NaN   \n",
       "TYPEHUQ            TYPEHUQ             9.072006e+10      4.0  519.729286   \n",
       "                   Residual            5.270614e+11  12078.0         NaN   \n",
       "Climate_Region_Pub Climate_Region_Pub  6.251247e+10      4.0  339.936863   \n",
       "...                                             ...      ...         ...   \n",
       "KAVALNG            Residual            5.505465e+11  12079.0         NaN   \n",
       "SCALENG            SCALENG             6.680363e+10      4.0  366.101058   \n",
       "                   Residual            5.509778e+11  12078.0         NaN   \n",
       "IECC_Climate_Pub   IECC_Climate_Pub    8.251806e+10     10.0  186.106134   \n",
       "                   Residual            5.352634e+11  12072.0         NaN   \n",
       "\n",
       "                                              PR(>F)  \n",
       "REGIONC            REGIONC              0.000000e+00  \n",
       "                   Residual                      NaN  \n",
       "TYPEHUQ            TYPEHUQ              0.000000e+00  \n",
       "                   Residual                      NaN  \n",
       "Climate_Region_Pub Climate_Region_Pub  9.799037e-278  \n",
       "...                                              ...  \n",
       "KAVALNG            Residual                      NaN  \n",
       "SCALENG            SCALENG             4.707379e-298  \n",
       "                   Residual                      NaN  \n",
       "IECC_Climate_Pub   IECC_Climate_Pub     0.000000e+00  \n",
       "                   Residual                      NaN  \n",
       "\n",
       "[394 rows x 4 columns]"
      ]
     },
     "execution_count": 58,
     "metadata": {},
     "output_type": "execute_result"
    }
   ],
   "source": [
    "import statsmodels.api as sm\n",
    "from statsmodels.formula.api import ols\n",
    "keys = []\n",
    "tables = []\n",
    "\n",
    "# anova dataframe\n",
    "anova_df = pd.concat([X_frequency[cat_columns_frequency], data['KWH']], axis=1)\n",
    "\n",
    "for variable in cat_columns_frequency:\n",
    "    model = ols('KWH ~ {}'.format(variable), data=anova_df).fit()\n",
    "    anova_table = sm.stats.anova_lm(model, typ=2)\n",
    "\n",
    "    keys.append(variable)\n",
    "    tables.append(anova_table)\n",
    "\n",
    "# anova result\n",
    "anova_result = pd.concat(tables, keys=keys, axis=0)\n",
    "anova_result"
   ]
  },
  {
   "cell_type": "markdown",
   "id": "703c721c",
   "metadata": {},
   "source": [
    "- If p < 0.05, we **refuse null hypothesis** and accept alternative hypothesis which means that **the categorical variable is correlated with target variable.**\n",
    "- If p > 0.05, we **fail to refuse null hypothesis** which means that **the categorical variable is not correlated with target variable.**"
   ]
  },
  {
   "cell_type": "code",
   "execution_count": 59,
   "id": "7a7d4ef2",
   "metadata": {
    "ExecuteTime": {
     "end_time": "2022-03-29T22:45:18.929626Z",
     "start_time": "2022-03-29T22:45:18.915664Z"
    }
   },
   "outputs": [
    {
     "data": {
      "text/plain": [
       "194"
      ]
     },
     "execution_count": 59,
     "metadata": {},
     "output_type": "execute_result"
    }
   ],
   "source": [
    "# categorical variables are correlated with target variables\n",
    "cat_columns_anova = anova_result[anova_result['PR(>F)'] < 0.05].index.get_level_values(0).tolist()\n",
    "len(cat_columns_anova)"
   ]
  },
  {
   "cell_type": "code",
   "execution_count": 60,
   "id": "830a1e47",
   "metadata": {
    "ExecuteTime": {
     "end_time": "2022-03-29T22:45:18.944586Z",
     "start_time": "2022-03-29T22:45:18.932618Z"
    }
   },
   "outputs": [
    {
     "data": {
      "text/plain": [
       "['HHSEX', 'TOASTER', 'HELPWIN']"
      ]
     },
     "execution_count": 60,
     "metadata": {},
     "output_type": "execute_result"
    }
   ],
   "source": [
    "# categorical variables are not correlated with target variables\n",
    "list(set(cat_columns_frequency) - set(cat_columns_anova))"
   ]
  },
  {
   "cell_type": "code",
   "execution_count": 61,
   "id": "3e8e700c",
   "metadata": {
    "ExecuteTime": {
     "end_time": "2022-03-29T22:45:18.960545Z",
     "start_time": "2022-03-29T22:45:18.947579Z"
    }
   },
   "outputs": [
    {
     "data": {
      "text/plain": [
       "Index(['TOASTER', 'HELPWIN', 'HHSEX'], dtype='object')"
      ]
     },
     "execution_count": 61,
     "metadata": {},
     "output_type": "execute_result"
    }
   ],
   "source": [
    "# confirm the result\n",
    "anova_result[anova_result['PR(>F)'] > 0.05].index.get_level_values(0)"
   ]
  },
  {
   "cell_type": "markdown",
   "id": "b6fa7e8d",
   "metadata": {},
   "source": [
    "We can see **TOASTER, HELPWIN, HHSEX** are not correlated with target variables. "
   ]
  },
  {
   "cell_type": "code",
   "execution_count": 62,
   "id": "ec7ce170",
   "metadata": {
    "ExecuteTime": {
     "end_time": "2022-03-29T22:45:18.975507Z",
     "start_time": "2022-03-29T22:45:18.963537Z"
    }
   },
   "outputs": [
    {
     "data": {
      "text/plain": [
       "196"
      ]
     },
     "execution_count": 62,
     "metadata": {},
     "output_type": "execute_result"
    }
   ],
   "source": [
    "len(cont_columns_corr) + len(cat_columns_anova) "
   ]
  },
  {
   "cell_type": "markdown",
   "id": "539bd2b1",
   "metadata": {
    "ExecuteTime": {
     "end_time": "2022-03-27T23:50:48.385184Z",
     "start_time": "2022-03-27T23:50:48.365619Z"
    }
   },
   "source": [
    "After filtering method, we have 196 features left. "
   ]
  },
  {
   "cell_type": "code",
   "execution_count": 63,
   "id": "41ec0fdf",
   "metadata": {
    "ExecuteTime": {
     "end_time": "2022-03-29T22:45:19.006423Z",
     "start_time": "2022-03-29T22:45:18.978497Z"
    }
   },
   "outputs": [
    {
     "data": {
      "text/plain": [
       "196"
      ]
     },
     "execution_count": 63,
     "metadata": {},
     "output_type": "execute_result"
    }
   ],
   "source": [
    "# features after filter method\n",
    "X_filter = X_corr[cont_columns_corr + cat_columns_anova]\n",
    "X_filter.shape[1]"
   ]
  },
  {
   "cell_type": "code",
   "execution_count": 64,
   "id": "91353b6d",
   "metadata": {
    "ExecuteTime": {
     "end_time": "2022-03-29T22:45:56.988491Z",
     "start_time": "2022-03-29T22:45:19.009413Z"
    }
   },
   "outputs": [
    {
     "data": {
      "text/html": [
       "<div>\n",
       "<style scoped>\n",
       "    .dataframe tbody tr th:only-of-type {\n",
       "        vertical-align: middle;\n",
       "    }\n",
       "\n",
       "    .dataframe tbody tr th {\n",
       "        vertical-align: top;\n",
       "    }\n",
       "\n",
       "    .dataframe thead th {\n",
       "        text-align: right;\n",
       "    }\n",
       "</style>\n",
       "<table border=\"1\" class=\"dataframe\">\n",
       "  <thead>\n",
       "    <tr style=\"text-align: right;\">\n",
       "      <th></th>\n",
       "      <th>Model Name</th>\n",
       "      <th>RMSE</th>\n",
       "      <th>Number of Feature</th>\n",
       "    </tr>\n",
       "  </thead>\n",
       "  <tbody>\n",
       "    <tr>\n",
       "      <th>0</th>\n",
       "      <td>Linear Regression</td>\n",
       "      <td>0.09</td>\n",
       "      <td>196</td>\n",
       "    </tr>\n",
       "    <tr>\n",
       "      <th>1</th>\n",
       "      <td>KNN</td>\n",
       "      <td>4899.08</td>\n",
       "      <td>196</td>\n",
       "    </tr>\n",
       "    <tr>\n",
       "      <th>2</th>\n",
       "      <td>Decision Tree</td>\n",
       "      <td>17.67</td>\n",
       "      <td>196</td>\n",
       "    </tr>\n",
       "    <tr>\n",
       "      <th>3</th>\n",
       "      <td>Random Forest Regressor</td>\n",
       "      <td>8.91</td>\n",
       "      <td>196</td>\n",
       "    </tr>\n",
       "  </tbody>\n",
       "</table>\n",
       "</div>"
      ],
      "text/plain": [
       "                Model Name     RMSE  Number of Feature\n",
       "0        Linear Regression     0.09                196\n",
       "1                      KNN  4899.08                196\n",
       "2            Decision Tree    17.67                196\n",
       "3  Random Forest Regressor     8.91                196"
      ]
     },
     "execution_count": 64,
     "metadata": {},
     "output_type": "execute_result"
    }
   ],
   "source": [
    "output_x_filter = rmse_score(X_filter)\n",
    "output_x_filter"
   ]
  },
  {
   "cell_type": "code",
   "execution_count": 65,
   "id": "1f246cc5",
   "metadata": {
    "ExecuteTime": {
     "end_time": "2022-03-29T22:45:57.019409Z",
     "start_time": "2022-03-29T22:45:56.991484Z"
    }
   },
   "outputs": [
    {
     "data": {
      "text/html": [
       "<div>\n",
       "<style scoped>\n",
       "    .dataframe tbody tr th:only-of-type {\n",
       "        vertical-align: middle;\n",
       "    }\n",
       "\n",
       "    .dataframe tbody tr th {\n",
       "        vertical-align: top;\n",
       "    }\n",
       "\n",
       "    .dataframe thead th {\n",
       "        text-align: right;\n",
       "    }\n",
       "</style>\n",
       "<table border=\"1\" class=\"dataframe\">\n",
       "  <thead>\n",
       "    <tr style=\"text-align: right;\">\n",
       "      <th></th>\n",
       "      <th>Model Name</th>\n",
       "      <th>RMSE</th>\n",
       "      <th>Number of Feature</th>\n",
       "    </tr>\n",
       "  </thead>\n",
       "  <tbody>\n",
       "    <tr>\n",
       "      <th>0</th>\n",
       "      <td>Linear Regression</td>\n",
       "      <td>0.03</td>\n",
       "      <td>938</td>\n",
       "    </tr>\n",
       "    <tr>\n",
       "      <th>1</th>\n",
       "      <td>KNN</td>\n",
       "      <td>4039.45</td>\n",
       "      <td>938</td>\n",
       "    </tr>\n",
       "    <tr>\n",
       "      <th>2</th>\n",
       "      <td>Decision Tree</td>\n",
       "      <td>19.06</td>\n",
       "      <td>938</td>\n",
       "    </tr>\n",
       "    <tr>\n",
       "      <th>3</th>\n",
       "      <td>Random Forest Regressor</td>\n",
       "      <td>10.00</td>\n",
       "      <td>938</td>\n",
       "    </tr>\n",
       "    <tr>\n",
       "      <th>4</th>\n",
       "      <td>Lasso</td>\n",
       "      <td>6.30</td>\n",
       "      <td>938</td>\n",
       "    </tr>\n",
       "    <tr>\n",
       "      <th>5</th>\n",
       "      <td>Linear Regression</td>\n",
       "      <td>0.09</td>\n",
       "      <td>772</td>\n",
       "    </tr>\n",
       "    <tr>\n",
       "      <th>6</th>\n",
       "      <td>KNN</td>\n",
       "      <td>4907.02</td>\n",
       "      <td>772</td>\n",
       "    </tr>\n",
       "    <tr>\n",
       "      <th>7</th>\n",
       "      <td>Decision Tree</td>\n",
       "      <td>18.49</td>\n",
       "      <td>772</td>\n",
       "    </tr>\n",
       "    <tr>\n",
       "      <th>8</th>\n",
       "      <td>Random Forest Regressor</td>\n",
       "      <td>9.27</td>\n",
       "      <td>772</td>\n",
       "    </tr>\n",
       "    <tr>\n",
       "      <th>9</th>\n",
       "      <td>Linear Regression</td>\n",
       "      <td>0.09</td>\n",
       "      <td>209</td>\n",
       "    </tr>\n",
       "    <tr>\n",
       "      <th>10</th>\n",
       "      <td>KNN</td>\n",
       "      <td>4686.71</td>\n",
       "      <td>209</td>\n",
       "    </tr>\n",
       "    <tr>\n",
       "      <th>11</th>\n",
       "      <td>Decision Tree</td>\n",
       "      <td>18.51</td>\n",
       "      <td>209</td>\n",
       "    </tr>\n",
       "    <tr>\n",
       "      <th>12</th>\n",
       "      <td>Random Forest Regressor</td>\n",
       "      <td>9.03</td>\n",
       "      <td>209</td>\n",
       "    </tr>\n",
       "    <tr>\n",
       "      <th>13</th>\n",
       "      <td>Linear Regression</td>\n",
       "      <td>0.09</td>\n",
       "      <td>199</td>\n",
       "    </tr>\n",
       "    <tr>\n",
       "      <th>14</th>\n",
       "      <td>KNN</td>\n",
       "      <td>4889.79</td>\n",
       "      <td>199</td>\n",
       "    </tr>\n",
       "    <tr>\n",
       "      <th>15</th>\n",
       "      <td>Decision Tree</td>\n",
       "      <td>16.89</td>\n",
       "      <td>199</td>\n",
       "    </tr>\n",
       "    <tr>\n",
       "      <th>16</th>\n",
       "      <td>Random Forest Regressor</td>\n",
       "      <td>9.11</td>\n",
       "      <td>199</td>\n",
       "    </tr>\n",
       "    <tr>\n",
       "      <th>17</th>\n",
       "      <td>Linear Regression</td>\n",
       "      <td>0.09</td>\n",
       "      <td>196</td>\n",
       "    </tr>\n",
       "    <tr>\n",
       "      <th>18</th>\n",
       "      <td>KNN</td>\n",
       "      <td>4899.08</td>\n",
       "      <td>196</td>\n",
       "    </tr>\n",
       "    <tr>\n",
       "      <th>19</th>\n",
       "      <td>Decision Tree</td>\n",
       "      <td>17.67</td>\n",
       "      <td>196</td>\n",
       "    </tr>\n",
       "    <tr>\n",
       "      <th>20</th>\n",
       "      <td>Random Forest Regressor</td>\n",
       "      <td>8.91</td>\n",
       "      <td>196</td>\n",
       "    </tr>\n",
       "  </tbody>\n",
       "</table>\n",
       "</div>"
      ],
      "text/plain": [
       "                 Model Name     RMSE  Number of Feature\n",
       "0         Linear Regression     0.03                938\n",
       "1                       KNN  4039.45                938\n",
       "2             Decision Tree    19.06                938\n",
       "3   Random Forest Regressor    10.00                938\n",
       "4                     Lasso     6.30                938\n",
       "5         Linear Regression     0.09                772\n",
       "6                       KNN  4907.02                772\n",
       "7             Decision Tree    18.49                772\n",
       "8   Random Forest Regressor     9.27                772\n",
       "9         Linear Regression     0.09                209\n",
       "10                      KNN  4686.71                209\n",
       "11            Decision Tree    18.51                209\n",
       "12  Random Forest Regressor     9.03                209\n",
       "13        Linear Regression     0.09                199\n",
       "14                      KNN  4889.79                199\n",
       "15            Decision Tree    16.89                199\n",
       "16  Random Forest Regressor     9.11                199\n",
       "17        Linear Regression     0.09                196\n",
       "18                      KNN  4899.08                196\n",
       "19            Decision Tree    17.67                196\n",
       "20  Random Forest Regressor     8.91                196"
      ]
     },
     "execution_count": 65,
     "metadata": {},
     "output_type": "execute_result"
    }
   ],
   "source": [
    "model_result = pd.concat([output_x, output_x_variance, output_x_frequency,\n",
    "          output_x_corr, output_x_filter]).reset_index(drop=True)\n",
    "model_result"
   ]
  },
  {
   "cell_type": "markdown",
   "id": "89550e3e",
   "metadata": {},
   "source": [
    "After filtering method, the number of features reduces from 938 to 196. **Decision Tree and Random Forest perform better than before.** "
   ]
  },
  {
   "cell_type": "markdown",
   "id": "f43d5e23",
   "metadata": {},
   "source": [
    "##  Feature Importance"
   ]
  },
  {
   "cell_type": "code",
   "execution_count": 66,
   "id": "ad42f422",
   "metadata": {
    "ExecuteTime": {
     "end_time": "2022-03-29T22:46:21.467685Z",
     "start_time": "2022-03-29T22:45:57.036364Z"
    }
   },
   "outputs": [],
   "source": [
    "# Build Random Forest Regressor\n",
    "rf = RandomForestRegressor(max_depth=10, n_jobs=-1, random_state=1)\n",
    "\n",
    "# get each cv split output on filtered features\n",
    "output = cross_validate(rf, X_filter, y, cv=5, scoring='neg_root_mean_squared_error',\n",
    "                        return_estimator=True)  # return each cv split result"
   ]
  },
  {
   "cell_type": "code",
   "execution_count": 67,
   "id": "7bb3d4a6",
   "metadata": {
    "ExecuteTime": {
     "end_time": "2022-03-29T22:46:21.483646Z",
     "start_time": "2022-03-29T22:46:21.470716Z"
    }
   },
   "outputs": [
    {
     "name": "stdout",
     "output_type": "stream",
     "text": [
      "RMSE of cross validate rf on test data with filtered features:  8.91\n"
     ]
    }
   ],
   "source": [
    "# Mean cross validate RMSE\n",
    "print(f'RMSE of cross validate rf on test data with filtered features: ',\n",
    "      abs(output['test_score'].mean()).round(2))"
   ]
  },
  {
   "cell_type": "code",
   "execution_count": 68,
   "id": "f3f00c1a",
   "metadata": {
    "ExecuteTime": {
     "end_time": "2022-03-29T22:46:21.656286Z",
     "start_time": "2022-03-29T22:46:21.485643Z"
    }
   },
   "outputs": [
    {
     "name": "stdout",
     "output_type": "stream",
     "text": [
      "Features sorted by their scores for estimator 0:\n",
      "Top 5 important features\n",
      "BTUEL       1.0\n",
      "MAINTHT     0.0\n",
      "EQUIPAUX    0.0\n",
      "CARRYEL     0.0\n",
      "EQMAMT      0.0\n",
      "Name: importance, dtype: float64\n",
      "=============================================\n",
      "Features sorted by their scores for estimator 1:\n",
      "Top 5 important features\n",
      "BTUEL       1.0\n",
      "MAINTHT     0.0\n",
      "EQUIPAUX    0.0\n",
      "CARRYEL     0.0\n",
      "EQMAMT      0.0\n",
      "Name: importance, dtype: float64\n",
      "=============================================\n",
      "Features sorted by their scores for estimator 2:\n",
      "Top 5 important features\n",
      "BTUEL       1.0\n",
      "MAINTHT     0.0\n",
      "EQUIPAUX    0.0\n",
      "CARRYEL     0.0\n",
      "EQMAMT      0.0\n",
      "Name: importance, dtype: float64\n",
      "=============================================\n",
      "Features sorted by their scores for estimator 3:\n",
      "Top 5 important features\n",
      "BTUEL       1.0\n",
      "MAINTHT     0.0\n",
      "EQUIPAUX    0.0\n",
      "CARRYEL     0.0\n",
      "EQMAMT      0.0\n",
      "Name: importance, dtype: float64\n",
      "=============================================\n",
      "Features sorted by their scores for estimator 4:\n",
      "Top 5 important features\n",
      "BTUEL       1.0\n",
      "MAINTHT     0.0\n",
      "EQUIPAUX    0.0\n",
      "CARRYEL     0.0\n",
      "EQMAMT      0.0\n",
      "Name: importance, dtype: float64\n",
      "=============================================\n"
     ]
    }
   ],
   "source": [
    "# top 5 important features for each cv split\n",
    "for idx, estimator in enumerate(output['estimator']):\n",
    "    print(f'Features sorted by their scores for estimator {idx}:')\n",
    "    feature_importances = pd.DataFrame(estimator.feature_importances_.round(2),\n",
    "                                       index=X_filter.columns,\n",
    "                                       columns=['importance']).sort_values('importance', ascending=False)\n",
    "    print(\"Top 5 important features\")\n",
    "    print(feature_importances.importance.nlargest(5))\n",
    "    print(\"===\"*15)"
   ]
  },
  {
   "cell_type": "code",
   "execution_count": 69,
   "id": "c1d7311f",
   "metadata": {
    "ExecuteTime": {
     "end_time": "2022-03-29T22:46:21.671249Z",
     "start_time": "2022-03-29T22:46:21.658286Z"
    }
   },
   "outputs": [
    {
     "data": {
      "text/html": [
       "<div>\n",
       "<style scoped>\n",
       "    .dataframe tbody tr th:only-of-type {\n",
       "        vertical-align: middle;\n",
       "    }\n",
       "\n",
       "    .dataframe tbody tr th {\n",
       "        vertical-align: top;\n",
       "    }\n",
       "\n",
       "    .dataframe thead th {\n",
       "        text-align: right;\n",
       "    }\n",
       "</style>\n",
       "<table border=\"1\" class=\"dataframe\">\n",
       "  <thead>\n",
       "    <tr style=\"text-align: right;\">\n",
       "      <th></th>\n",
       "      <th>importance</th>\n",
       "    </tr>\n",
       "  </thead>\n",
       "  <tbody>\n",
       "    <tr>\n",
       "      <th>BTUEL</th>\n",
       "      <td>1.0</td>\n",
       "    </tr>\n",
       "    <tr>\n",
       "      <th>MAINTHT</th>\n",
       "      <td>0.0</td>\n",
       "    </tr>\n",
       "    <tr>\n",
       "      <th>EQUIPAUX</th>\n",
       "      <td>0.0</td>\n",
       "    </tr>\n",
       "    <tr>\n",
       "      <th>CARRYEL</th>\n",
       "      <td>0.0</td>\n",
       "    </tr>\n",
       "    <tr>\n",
       "      <th>EQMAMT</th>\n",
       "      <td>0.0</td>\n",
       "    </tr>\n",
       "  </tbody>\n",
       "</table>\n",
       "</div>"
      ],
      "text/plain": [
       "          importance\n",
       "BTUEL            1.0\n",
       "MAINTHT          0.0\n",
       "EQUIPAUX         0.0\n",
       "CARRYEL          0.0\n",
       "EQMAMT           0.0"
      ]
     },
     "execution_count": 69,
     "metadata": {},
     "output_type": "execute_result"
    }
   ],
   "source": [
    "feature_importances.head()"
   ]
  },
  {
   "cell_type": "markdown",
   "id": "f67fcf59",
   "metadata": {},
   "source": [
    "**BTUEL** is the most important in the Random Forest model. Let's check on this column **BTUEL** (Total Site Electricity usage)."
   ]
  },
  {
   "cell_type": "code",
   "execution_count": 70,
   "id": "da3d8919",
   "metadata": {
    "ExecuteTime": {
     "end_time": "2022-03-29T22:46:21.687243Z",
     "start_time": "2022-03-29T22:46:21.673245Z"
    }
   },
   "outputs": [
    {
     "data": {
      "text/html": [
       "<div>\n",
       "<style scoped>\n",
       "    .dataframe tbody tr th:only-of-type {\n",
       "        vertical-align: middle;\n",
       "    }\n",
       "\n",
       "    .dataframe tbody tr th {\n",
       "        vertical-align: top;\n",
       "    }\n",
       "\n",
       "    .dataframe thead th {\n",
       "        text-align: right;\n",
       "    }\n",
       "</style>\n",
       "<table border=\"1\" class=\"dataframe\">\n",
       "  <thead>\n",
       "    <tr style=\"text-align: right;\">\n",
       "      <th></th>\n",
       "      <th>BTUEL</th>\n",
       "      <th>KWH</th>\n",
       "    </tr>\n",
       "  </thead>\n",
       "  <tbody>\n",
       "    <tr>\n",
       "      <th>0</th>\n",
       "      <td>63006.0</td>\n",
       "      <td>18466.0</td>\n",
       "    </tr>\n",
       "    <tr>\n",
       "      <th>1</th>\n",
       "      <td>17565.0</td>\n",
       "      <td>5148.0</td>\n",
       "    </tr>\n",
       "    <tr>\n",
       "      <th>2</th>\n",
       "      <td>7568.0</td>\n",
       "      <td>2218.0</td>\n",
       "    </tr>\n",
       "    <tr>\n",
       "      <th>3</th>\n",
       "      <td>34171.0</td>\n",
       "      <td>10015.0</td>\n",
       "    </tr>\n",
       "    <tr>\n",
       "      <th>4</th>\n",
       "      <td>9789.0</td>\n",
       "      <td>2869.0</td>\n",
       "    </tr>\n",
       "  </tbody>\n",
       "</table>\n",
       "</div>"
      ],
      "text/plain": [
       "     BTUEL      KWH\n",
       "0  63006.0  18466.0\n",
       "1  17565.0   5148.0\n",
       "2   7568.0   2218.0\n",
       "3  34171.0  10015.0\n",
       "4   9789.0   2869.0"
      ]
     },
     "execution_count": 70,
     "metadata": {},
     "output_type": "execute_result"
    }
   ],
   "source": [
    "data[['BTUEL', 'KWH']].head()"
   ]
  },
  {
   "cell_type": "code",
   "execution_count": 71,
   "id": "0d1e39c0",
   "metadata": {
    "ExecuteTime": {
     "end_time": "2022-03-29T22:46:21.703165Z",
     "start_time": "2022-03-29T22:46:21.689202Z"
    }
   },
   "outputs": [],
   "source": [
    "ratio = data['BTUEL']/data['KWH']"
   ]
  },
  {
   "cell_type": "code",
   "execution_count": 72,
   "id": "41c4b8dc",
   "metadata": {
    "ExecuteTime": {
     "end_time": "2022-03-29T22:46:21.719164Z",
     "start_time": "2022-03-29T22:46:21.705162Z"
    }
   },
   "outputs": [
    {
     "data": {
      "text/plain": [
       "(3.4115646258503403, 3.4124183006535946)"
      ]
     },
     "execution_count": 72,
     "metadata": {},
     "output_type": "execute_result"
    }
   ],
   "source": [
    "# min and max value of ratio\n",
    "min(ratio), max(ratio)"
   ]
  },
  {
   "cell_type": "markdown",
   "id": "6377585b",
   "metadata": {},
   "source": [
    "It implies that there is a linear relationship between **BTUEL** and **KWH**. But let's continue to compare which model performs better with this feature. Linear Regression or Random Forest? "
   ]
  },
  {
   "cell_type": "code",
   "execution_count": 78,
   "id": "e2eee7f6",
   "metadata": {
    "ExecuteTime": {
     "end_time": "2022-03-29T22:51:46.167649Z",
     "start_time": "2022-03-29T22:51:46.058938Z"
    }
   },
   "outputs": [
    {
     "data": {
      "text/plain": [
       "0.09"
      ]
     },
     "execution_count": 78,
     "metadata": {},
     "output_type": "execute_result"
    }
   ],
   "source": [
    "# cross validate RMSE score on Linear Regression\n",
    "rmse_lr = abs(cross_val_score(LinearRegression(), X[['BTUEL']], y, cv=5,\n",
    "    scoring='neg_root_mean_squared_error').mean().round(2))\n",
    "rmse_lr"
   ]
  },
  {
   "cell_type": "code",
   "execution_count": 79,
   "id": "a612c310",
   "metadata": {
    "ExecuteTime": {
     "end_time": "2022-03-29T22:51:49.175604Z",
     "start_time": "2022-03-29T22:51:47.169967Z"
    }
   },
   "outputs": [
    {
     "data": {
      "text/plain": [
       "5.55"
      ]
     },
     "execution_count": 79,
     "metadata": {},
     "output_type": "execute_result"
    }
   ],
   "source": [
    "# cross validate RMSE score on Random Forest\n",
    "rmse_rf = abs(cross_val_score(rf, X[['BTUEL']], y, cv=5,\n",
    "    scoring='neg_root_mean_squared_error').mean().round(2))\n",
    "rmse_rf"
   ]
  },
  {
   "cell_type": "markdown",
   "id": "84b5ea23",
   "metadata": {},
   "source": [
    "RMSE of a RF model with only 1 column **BTUEL** (5.55) is **lower than** that of a RF model with 196 filtered features (8.91).  **Linear Regression** has the lowest RMSE (0.09). By far we have selected the most important feature from 939 features. "
   ]
  },
  {
   "cell_type": "markdown",
   "id": "f8a67289",
   "metadata": {},
   "source": [
    "# Model Tunning"
   ]
  },
  {
   "cell_type": "markdown",
   "id": "031bc341",
   "metadata": {},
   "source": [
    "With the most important **BTUEL** column, let's tunning our random forest model. "
   ]
  },
  {
   "cell_type": "markdown",
   "id": "11e75106",
   "metadata": {},
   "source": [
    "## Grid Search with cross validation "
   ]
  },
  {
   "cell_type": "code",
   "execution_count": 80,
   "id": "f2cc03ed",
   "metadata": {
    "ExecuteTime": {
     "end_time": "2022-03-29T22:51:52.417927Z",
     "start_time": "2022-03-29T22:51:52.403964Z"
    }
   },
   "outputs": [],
   "source": [
    "from sklearn.model_selection import GridSearchCV\n",
    "\n",
    "# grid search parameters \n",
    "params = {\n",
    "    'n_estimators': list(range(100, 500, 100)),\n",
    "    'max_depth': list(range(10, 100, 10)),\n",
    "    'min_samples_split': [2, 5, 10],\n",
    "    'min_samples_leaf': [1, 2, 4],\n",
    "    'bootstrap': [True, False]\n",
    "}\n"
   ]
  },
  {
   "cell_type": "code",
   "execution_count": 81,
   "id": "b562ff97",
   "metadata": {
    "ExecuteTime": {
     "end_time": "2022-03-29T22:51:54.782600Z",
     "start_time": "2022-03-29T22:51:54.766643Z"
    }
   },
   "outputs": [],
   "source": [
    "# instantiate the grid search model\n",
    "gs = GridSearchCV(\n",
    "    RandomForestRegressor(random_state=1, n_jobs=-1),\n",
    "    param_grid= params,\n",
    "    scoring='neg_root_mean_squared_error',\n",
    "    cv = 5\n",
    ")"
   ]
  },
  {
   "cell_type": "code",
   "execution_count": 87,
   "id": "b2da1558",
   "metadata": {
    "ExecuteTime": {
     "end_time": "2022-03-30T21:26:11.127484Z",
     "start_time": "2022-03-30T20:51:05.480158Z"
    }
   },
   "outputs": [
    {
     "data": {
      "text/plain": [
       "GridSearchCV(cv=5, estimator=RandomForestRegressor(n_jobs=-1, random_state=1),\n",
       "             param_grid={'bootstrap': [True, False],\n",
       "                         'max_depth': [10, 20, 30, 40, 50, 60, 70, 80, 90],\n",
       "                         'min_samples_leaf': [1, 2, 4],\n",
       "                         'min_samples_split': [2, 5, 10],\n",
       "                         'n_estimators': [100, 200, 300, 400]},\n",
       "             scoring='neg_root_mean_squared_error')"
      ]
     },
     "execution_count": 87,
     "metadata": {},
     "output_type": "execute_result"
    }
   ],
   "source": [
    "# fit the grid search to the data\n",
    "gs.fit(X[['BTUEL']], y)"
   ]
  },
  {
   "cell_type": "code",
   "execution_count": 83,
   "id": "0876982d",
   "metadata": {
    "ExecuteTime": {
     "end_time": "2022-03-30T05:48:35.578848Z",
     "start_time": "2022-03-30T05:48:35.559899Z"
    }
   },
   "outputs": [
    {
     "data": {
      "text/plain": [
       "{'bootstrap': True,\n",
       " 'max_depth': 20,\n",
       " 'min_samples_leaf': 1,\n",
       " 'min_samples_split': 2,\n",
       " 'n_estimators': 400}"
      ]
     },
     "execution_count": 83,
     "metadata": {},
     "output_type": "execute_result"
    }
   ],
   "source": [
    "#best grid search parameters\n",
    "gs.best_params_"
   ]
  },
  {
   "cell_type": "code",
   "execution_count": 84,
   "id": "5cac0f95",
   "metadata": {
    "ExecuteTime": {
     "end_time": "2022-03-30T05:48:36.713811Z",
     "start_time": "2022-03-30T05:48:36.702841Z"
    }
   },
   "outputs": [
    {
     "data": {
      "text/plain": [
       "4.06"
      ]
     },
     "execution_count": 84,
     "metadata": {},
     "output_type": "execute_result"
    }
   ],
   "source": [
    "# RMSE \n",
    "gs_best_score =abs(gs.best_score_).round(2)\n",
    "gs_best_score"
   ]
  },
  {
   "cell_type": "markdown",
   "id": "b1d1a37b",
   "metadata": {},
   "source": [
    "# Model Comparison "
   ]
  },
  {
   "cell_type": "code",
   "execution_count": 85,
   "id": "0a0735e4",
   "metadata": {
    "ExecuteTime": {
     "end_time": "2022-03-30T05:48:40.496906Z",
     "start_time": "2022-03-30T05:48:40.464991Z"
    }
   },
   "outputs": [
    {
     "data": {
      "text/html": [
       "<div>\n",
       "<style scoped>\n",
       "    .dataframe tbody tr th:only-of-type {\n",
       "        vertical-align: middle;\n",
       "    }\n",
       "\n",
       "    .dataframe tbody tr th {\n",
       "        vertical-align: top;\n",
       "    }\n",
       "\n",
       "    .dataframe thead th {\n",
       "        text-align: right;\n",
       "    }\n",
       "</style>\n",
       "<table border=\"1\" class=\"dataframe\">\n",
       "  <thead>\n",
       "    <tr style=\"text-align: right;\">\n",
       "      <th></th>\n",
       "      <th>Model Name</th>\n",
       "      <th>RMSE</th>\n",
       "      <th>Number of Feature</th>\n",
       "    </tr>\n",
       "  </thead>\n",
       "  <tbody>\n",
       "    <tr>\n",
       "      <th>0</th>\n",
       "      <td>Linear Regression</td>\n",
       "      <td>0.09</td>\n",
       "      <td>1</td>\n",
       "    </tr>\n",
       "    <tr>\n",
       "      <th>1</th>\n",
       "      <td>Random Forest Regressor</td>\n",
       "      <td>4.06</td>\n",
       "      <td>1</td>\n",
       "    </tr>\n",
       "  </tbody>\n",
       "</table>\n",
       "</div>"
      ],
      "text/plain": [
       "                Model Name  RMSE  Number of Feature\n",
       "0        Linear Regression  0.09                  1\n",
       "1  Random Forest Regressor  4.06                  1"
      ]
     },
     "execution_count": 85,
     "metadata": {},
     "output_type": "execute_result"
    }
   ],
   "source": [
    "# Linear regression model and random forest model with BTUEL feature\n",
    "BTUEL_df = pd.DataFrame({'Model Name': ['Linear Regression', 'Random Forest Regressor'],\n",
    "                         'RMSE': [rmse_lr, gs_best_score],\n",
    "                         'Number of Feature': [1, 1]})\n",
    "BTUEL_df"
   ]
  },
  {
   "cell_type": "code",
   "execution_count": 86,
   "id": "bdb04443",
   "metadata": {
    "ExecuteTime": {
     "end_time": "2022-03-30T05:48:41.761522Z",
     "start_time": "2022-03-30T05:48:41.711656Z"
    }
   },
   "outputs": [
    {
     "data": {
      "text/html": [
       "<div>\n",
       "<style scoped>\n",
       "    .dataframe tbody tr th:only-of-type {\n",
       "        vertical-align: middle;\n",
       "    }\n",
       "\n",
       "    .dataframe tbody tr th {\n",
       "        vertical-align: top;\n",
       "    }\n",
       "\n",
       "    .dataframe thead th {\n",
       "        text-align: right;\n",
       "    }\n",
       "</style>\n",
       "<table border=\"1\" class=\"dataframe\">\n",
       "  <thead>\n",
       "    <tr style=\"text-align: right;\">\n",
       "      <th></th>\n",
       "      <th>Model Name</th>\n",
       "      <th>RMSE</th>\n",
       "      <th>Number of Feature</th>\n",
       "    </tr>\n",
       "  </thead>\n",
       "  <tbody>\n",
       "    <tr>\n",
       "      <th>0</th>\n",
       "      <td>Linear Regression</td>\n",
       "      <td>0.03</td>\n",
       "      <td>938</td>\n",
       "    </tr>\n",
       "    <tr>\n",
       "      <th>1</th>\n",
       "      <td>Linear Regression</td>\n",
       "      <td>0.09</td>\n",
       "      <td>1</td>\n",
       "    </tr>\n",
       "    <tr>\n",
       "      <th>2</th>\n",
       "      <td>Linear Regression</td>\n",
       "      <td>0.09</td>\n",
       "      <td>196</td>\n",
       "    </tr>\n",
       "    <tr>\n",
       "      <th>3</th>\n",
       "      <td>Linear Regression</td>\n",
       "      <td>0.09</td>\n",
       "      <td>199</td>\n",
       "    </tr>\n",
       "    <tr>\n",
       "      <th>4</th>\n",
       "      <td>Linear Regression</td>\n",
       "      <td>0.09</td>\n",
       "      <td>209</td>\n",
       "    </tr>\n",
       "    <tr>\n",
       "      <th>5</th>\n",
       "      <td>Linear Regression</td>\n",
       "      <td>0.09</td>\n",
       "      <td>772</td>\n",
       "    </tr>\n",
       "    <tr>\n",
       "      <th>6</th>\n",
       "      <td>Random Forest Regressor</td>\n",
       "      <td>4.06</td>\n",
       "      <td>1</td>\n",
       "    </tr>\n",
       "    <tr>\n",
       "      <th>7</th>\n",
       "      <td>Lasso</td>\n",
       "      <td>6.30</td>\n",
       "      <td>938</td>\n",
       "    </tr>\n",
       "    <tr>\n",
       "      <th>8</th>\n",
       "      <td>Random Forest Regressor</td>\n",
       "      <td>8.91</td>\n",
       "      <td>196</td>\n",
       "    </tr>\n",
       "    <tr>\n",
       "      <th>9</th>\n",
       "      <td>Random Forest Regressor</td>\n",
       "      <td>9.03</td>\n",
       "      <td>209</td>\n",
       "    </tr>\n",
       "    <tr>\n",
       "      <th>10</th>\n",
       "      <td>Random Forest Regressor</td>\n",
       "      <td>9.11</td>\n",
       "      <td>199</td>\n",
       "    </tr>\n",
       "    <tr>\n",
       "      <th>11</th>\n",
       "      <td>Random Forest Regressor</td>\n",
       "      <td>9.27</td>\n",
       "      <td>772</td>\n",
       "    </tr>\n",
       "    <tr>\n",
       "      <th>12</th>\n",
       "      <td>Random Forest Regressor</td>\n",
       "      <td>10.00</td>\n",
       "      <td>938</td>\n",
       "    </tr>\n",
       "    <tr>\n",
       "      <th>13</th>\n",
       "      <td>Decision Tree</td>\n",
       "      <td>16.89</td>\n",
       "      <td>199</td>\n",
       "    </tr>\n",
       "    <tr>\n",
       "      <th>14</th>\n",
       "      <td>Decision Tree</td>\n",
       "      <td>17.67</td>\n",
       "      <td>196</td>\n",
       "    </tr>\n",
       "    <tr>\n",
       "      <th>15</th>\n",
       "      <td>Decision Tree</td>\n",
       "      <td>18.49</td>\n",
       "      <td>772</td>\n",
       "    </tr>\n",
       "    <tr>\n",
       "      <th>16</th>\n",
       "      <td>Decision Tree</td>\n",
       "      <td>18.51</td>\n",
       "      <td>209</td>\n",
       "    </tr>\n",
       "    <tr>\n",
       "      <th>17</th>\n",
       "      <td>Decision Tree</td>\n",
       "      <td>19.06</td>\n",
       "      <td>938</td>\n",
       "    </tr>\n",
       "    <tr>\n",
       "      <th>18</th>\n",
       "      <td>KNN</td>\n",
       "      <td>4039.45</td>\n",
       "      <td>938</td>\n",
       "    </tr>\n",
       "    <tr>\n",
       "      <th>19</th>\n",
       "      <td>KNN</td>\n",
       "      <td>4686.71</td>\n",
       "      <td>209</td>\n",
       "    </tr>\n",
       "    <tr>\n",
       "      <th>20</th>\n",
       "      <td>KNN</td>\n",
       "      <td>4889.79</td>\n",
       "      <td>199</td>\n",
       "    </tr>\n",
       "    <tr>\n",
       "      <th>21</th>\n",
       "      <td>KNN</td>\n",
       "      <td>4899.08</td>\n",
       "      <td>196</td>\n",
       "    </tr>\n",
       "    <tr>\n",
       "      <th>22</th>\n",
       "      <td>KNN</td>\n",
       "      <td>4907.02</td>\n",
       "      <td>772</td>\n",
       "    </tr>\n",
       "  </tbody>\n",
       "</table>\n",
       "</div>"
      ],
      "text/plain": [
       "                 Model Name     RMSE  Number of Feature\n",
       "0         Linear Regression     0.03                938\n",
       "1         Linear Regression     0.09                  1\n",
       "2         Linear Regression     0.09                196\n",
       "3         Linear Regression     0.09                199\n",
       "4         Linear Regression     0.09                209\n",
       "5         Linear Regression     0.09                772\n",
       "6   Random Forest Regressor     4.06                  1\n",
       "7                     Lasso     6.30                938\n",
       "8   Random Forest Regressor     8.91                196\n",
       "9   Random Forest Regressor     9.03                209\n",
       "10  Random Forest Regressor     9.11                199\n",
       "11  Random Forest Regressor     9.27                772\n",
       "12  Random Forest Regressor    10.00                938\n",
       "13            Decision Tree    16.89                199\n",
       "14            Decision Tree    17.67                196\n",
       "15            Decision Tree    18.49                772\n",
       "16            Decision Tree    18.51                209\n",
       "17            Decision Tree    19.06                938\n",
       "18                      KNN  4039.45                938\n",
       "19                      KNN  4686.71                209\n",
       "20                      KNN  4889.79                199\n",
       "21                      KNN  4899.08                196\n",
       "22                      KNN  4907.02                772"
      ]
     },
     "execution_count": 86,
     "metadata": {},
     "output_type": "execute_result"
    }
   ],
   "source": [
    "# final model result dataframe\n",
    "model_result = pd.concat([model_result, BTUEL_df]).sort_values(\n",
    "    by=['RMSE', 'Number of Feature'], ascending=[True, True]).reset_index(drop=True)\n",
    "model_result"
   ]
  },
  {
   "cell_type": "markdown",
   "id": "2ae66ca4",
   "metadata": {},
   "source": [
    "From the above result, we can see that **Random Forest Regressor performance improves 59.4%** by reducing RMSE from 10 to 4.06 after applying feature selection and model tunning. It is even better than LASSO on 938 features (6.30). But **Linear Regression RMSE** (0.09) is **lower than Random Forest** (4.06) with the most important feature. "
   ]
  },
  {
   "cell_type": "markdown",
   "id": "35de09e0",
   "metadata": {},
   "source": [
    "# Conclusion"
   ]
  },
  {
   "cell_type": "markdown",
   "id": "4254aed7",
   "metadata": {},
   "source": [
    "In this project, I have applied multiple methods to perform feature selection and selected the most important feature **BTUEL** from 938 features. **Linear Regression** predicts **better** than **Random Forest** with the most important feature **BTUEL**.  "
   ]
  }
 ],
 "metadata": {
  "kernelspec": {
   "display_name": "Python 3",
   "language": "python",
   "name": "python3"
  },
  "language_info": {
   "codemirror_mode": {
    "name": "ipython",
    "version": 3
   },
   "file_extension": ".py",
   "mimetype": "text/x-python",
   "name": "python",
   "nbconvert_exporter": "python",
   "pygments_lexer": "ipython3",
   "version": "3.8.8"
  },
  "toc": {
   "base_numbering": 1,
   "nav_menu": {},
   "number_sections": true,
   "sideBar": true,
   "skip_h1_title": false,
   "title_cell": "Table of Contents",
   "title_sidebar": "Contents",
   "toc_cell": false,
   "toc_position": {
    "height": "calc(100% - 180px)",
    "left": "10px",
    "top": "150px",
    "width": "292.571px"
   },
   "toc_section_display": true,
   "toc_window_display": false
  }
 },
 "nbformat": 4,
 "nbformat_minor": 5
}
